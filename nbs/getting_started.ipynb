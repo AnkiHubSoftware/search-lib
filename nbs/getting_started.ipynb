{
 "cells": [
  {
   "cell_type": "markdown",
   "metadata": {},
   "source": [
    "# Search Lib\n",
    "\n",
    "# Why this library?\n",
    "\n",
    "Because we need to understand and see the components of our pipeline more granularly, faster and share those results."
   ]
  },
  {
   "cell_type": "markdown",
   "metadata": {},
   "source": [
    "## Downloading Anking Deck"
   ]
  },
  {
   "cell_type": "code",
   "execution_count": 1,
   "metadata": {},
   "outputs": [
    {
     "data": {
      "text/plain": [
       "True"
      ]
     },
     "execution_count": 1,
     "metadata": {},
     "output_type": "execute_result"
    }
   ],
   "source": [
    "from dotenv import load_dotenv\n",
    "load_dotenv()"
   ]
  },
  {
   "cell_type": "code",
   "execution_count": 2,
   "metadata": {},
   "outputs": [],
   "source": [
    "from search_lib.load_data import download_sqlite_file, get_notes\n",
    "import pickle"
   ]
  },
  {
   "cell_type": "code",
   "execution_count": 3,
   "metadata": {},
   "outputs": [
    {
     "name": "stdout",
     "output_type": "stream",
     "text": [
      "Downloading SQLite file for deck: AnKing Step Deck\n"
     ]
    },
    {
     "data": {
      "text/plain": [
       "Path('AnKing Step Deck.sqlite')"
      ]
     },
     "execution_count": 3,
     "metadata": {},
     "output_type": "execute_result"
    }
   ],
   "source": [
    "db_path = download_sqlite_file()\n",
    "db_path"
   ]
  },
  {
   "cell_type": "code",
   "execution_count": 4,
   "metadata": {},
   "outputs": [
    {
     "name": "stdout",
     "output_type": "stream",
     "text": [
      "Extracted 28664 notes with content\n"
     ]
    },
    {
     "data": {
      "text/plain": [
       "{'id': '10d7cd51-565b-44d6-9858-30cb6ebf51c4',\n",
       " 'content': 'For instructions on <b>using this deck</b>&nbsp;and&nbsp;<b>using/customizing the note type</b>&nbsp;go to <a href=\"https://community.ankihub.net/t/wiki-anking-overhaul-for-step-1-2-by-ankingmed/114092?_gl=1*15fqpnu*_ga*MTA1OTEyNjc5Ni4xNjkxODA1MTI5*_ga_T2ZF93TKF6*MTcwNzQxMzQwOS45OTcuMS4xNzA3NDE5NTEwLjAuMC4w\">the wiki guide</a><br><br>{{c1::Please note that all organization for this deck is in the <b>tags</b>! There are <u><a href=\"https://community.ankihub.net/t/why-are-there-no-subdecks-in-the-anking-v12-deck/129271\">no subdecks</a></u>}}<br><br>If you are wondering why there are <u>0 cards showing up</u>, see this <a href=\"https://community.ankihub.net/t/why-does-my-anking-step-deck-have-0-cards/131517\">post for the answer</a> Huge thank you to all the&nbsp;<a href=\"https://community.ankihub.net/docs?topic=134040\">contributors &amp; maintainers</a>!&nbsp;<br>To see what is being updated, check the&nbsp;<a href=\"https://community.ankihub.net/t/anking-step-deck-update-log/166499\">update log</a><br>Need help? Visit the <a href=\"https://community.ankihub.net/t/getting-help/167141\">community</a>&nbsp;<br><br>If you want to submit a suggestion, please check the&nbsp;<a href=\"https://community.ankihub.net/t/anking-step-deck-submission-guidelines/166504\">guidelines</a>&nbsp;first (all suggestions that do not follow the guidelines will be automatically rejected!)<br><br>❗For those of you that aren’t as familiar with Anki and the AnKing note types, this deck includes buttons for fields that can be opened with&nbsp;<span style=\"color: rgb(255, 0, 127);\">h</span>&nbsp;or&nbsp;<span style=\"color: rgb(255, 0, 127);\">\\'</span>&nbsp;for all at once. It also includes “one by one” notes. You can use&nbsp;<span style=\"color: rgb(255, 0, 127);\">n</span>&nbsp;to toggle each box or&nbsp;<span style=\"color: rgb(255, 0, 127);\">,</span>&nbsp;to toggle all of them at once. You can also use the&nbsp;<a href=\"https://ankiweb.net/shared/info/952691989\">AnKing Note Types add-on</a>&nbsp;to customize these shortcuts, auto open fields, re-order fields, etc               ',\n",
       " 'tags': ['AnkiHub_Subdeck::AnKing_Overhaul_for_Step_1_&_2::Instructions',\n",
       "  'AnkiHub_Instructions']}"
      ]
     },
     "execution_count": 4,
     "metadata": {},
     "output_type": "execute_result"
    }
   ],
   "source": [
    "notes = get_notes(db_path)\n",
    "notes[0]"
   ]
  },
  {
   "cell_type": "markdown",
   "metadata": {},
   "source": [
    "## Pre Search\n",
    "\n",
    "This module holds anything that happens prior to the search across notes, such as query pre-processing, tag enrichment, etc."
   ]
  },
  {
   "cell_type": "markdown",
   "metadata": {},
   "source": [
    "You can use a search function from the search module"
   ]
  },
  {
   "cell_type": "code",
   "execution_count": 5,
   "metadata": {},
   "outputs": [],
   "source": [
    "from search_lib.pre_search import decompose_query"
   ]
  },
  {
   "cell_type": "code",
   "execution_count": 6,
   "metadata": {},
   "outputs": [
    {
     "data": {
      "text/plain": [
       "['What are the symptoms of acute myocardial infarction (AMI)?',\n",
       " 'What causes acute myocardial infarction (AMI)?',\n",
       " 'How is the diagnosis of acute myocardial infarction (AMI) confirmed?']"
      ]
     },
     "execution_count": 6,
     "metadata": {},
     "output_type": "execute_result"
    }
   ],
   "source": [
    "qry = '''Acute myocardial infarction (AMI) is characterized by sudden chest pain, often described as pressure or tightness, that may radiate to the left arm or jaw. The condition occurs when blood flow to a part of the heart is blocked, typically due to a ruptured atherosclerotic plaque, leading to myocardial cell death. Diagnosis is confirmed through ECG changes, elevated cardiac biomarkers like troponin, and clinical presentation.'''\n",
    "decompose_query(qry, verbose=False).queries"
   ]
  },
  {
   "cell_type": "markdown",
   "metadata": {},
   "source": [
    "# Search\n",
    "\n",
    "This holds anything that does the main search across all notes"
   ]
  },
  {
   "cell_type": "markdown",
   "metadata": {},
   "source": [
    "### Dense"
   ]
  },
  {
   "cell_type": "code",
   "execution_count": 7,
   "metadata": {},
   "outputs": [],
   "source": [
    "from search_lib.search import dense_search, embed_cohere\n",
    "import os"
   ]
  },
  {
   "cell_type": "code",
   "execution_count": 8,
   "metadata": {},
   "outputs": [
    {
     "data": {
      "text/plain": [
       "{'id': '10d7cd51-565b-44d6-9858-30cb6ebf51c4',\n",
       " 'content': 'For instructions on <b>using this deck</b>&nbsp;and&nbsp;<b>using/customizing the note type</b>&nbsp;go to <a href=\"https://community.ankihub.net/t/wiki-anking-overhaul-for-step-1-2-by-ankingmed/114092?_gl=1*15fqpnu*_ga*MTA1OTEyNjc5Ni4xNjkxODA1MTI5*_ga_T2ZF93TKF6*MTcwNzQxMzQwOS45OTcuMS4xNzA3NDE5NTEwLjAuMC4w\">the wiki guide</a><br><br>{{c1::Please note that all organization for this deck is in the <b>tags</b>! There are <u><a href=\"https://community.ankihub.net/t/why-are-there-no-subdecks-in-the-anking-v12-deck/129271\">no subdecks</a></u>}}<br><br>If you are wondering why there are <u>0 cards showing up</u>, see this <a href=\"https://community.ankihub.net/t/why-does-my-anking-step-deck-have-0-cards/131517\">post for the answer</a> Huge thank you to all the&nbsp;<a href=\"https://community.ankihub.net/docs?topic=134040\">contributors &amp; maintainers</a>!&nbsp;<br>To see what is being updated, check the&nbsp;<a href=\"https://community.ankihub.net/t/anking-step-deck-update-log/166499\">update log</a><br>Need help? Visit the <a href=\"https://community.ankihub.net/t/getting-help/167141\">community</a>&nbsp;<br><br>If you want to submit a suggestion, please check the&nbsp;<a href=\"https://community.ankihub.net/t/anking-step-deck-submission-guidelines/166504\">guidelines</a>&nbsp;first (all suggestions that do not follow the guidelines will be automatically rejected!)<br><br>❗For those of you that aren’t as familiar with Anki and the AnKing note types, this deck includes buttons for fields that can be opened with&nbsp;<span style=\"color: rgb(255, 0, 127);\">h</span>&nbsp;or&nbsp;<span style=\"color: rgb(255, 0, 127);\">\\'</span>&nbsp;for all at once. It also includes “one by one” notes. You can use&nbsp;<span style=\"color: rgb(255, 0, 127);\">n</span>&nbsp;to toggle each box or&nbsp;<span style=\"color: rgb(255, 0, 127);\">,</span>&nbsp;to toggle all of them at once. You can also use the&nbsp;<a href=\"https://ankiweb.net/shared/info/952691989\">AnKing Note Types add-on</a>&nbsp;to customize these shortcuts, auto open fields, re-order fields, etc               ',\n",
       " 'tags': ['AnkiHub_Subdeck::AnKing_Overhaul_for_Step_1_&_2::Instructions',\n",
       "  'AnkiHub_Instructions']}"
      ]
     },
     "execution_count": 8,
     "metadata": {},
     "output_type": "execute_result"
    }
   ],
   "source": [
    "notes[0]"
   ]
  },
  {
   "cell_type": "code",
   "execution_count": 9,
   "metadata": {},
   "outputs": [],
   "source": [
    "notes_content = [n['content'] for n in notes]"
   ]
  },
  {
   "cell_type": "code",
   "execution_count": 10,
   "metadata": {},
   "outputs": [],
   "source": [
    "embeddings_fpath = 'cohere_embeddings.pkl'\n",
    "if os.path.exists(embeddings_fpath):\n",
    "    with open(embeddings_fpath, 'rb') as f:\n",
    "        embeddings = pickle.load(f)\n",
    "else: \n",
    "    embeddings = embed_cohere(notes_content, verbose=True, input_type='search_document')\n",
    "    with open(embeddings_fpath, 'wb') as f:\n",
    "        pickle.dump(embeddings, f)"
   ]
  },
  {
   "cell_type": "code",
   "execution_count": 11,
   "metadata": {},
   "outputs": [
    {
     "data": {
      "text/plain": [
       "(28664, 1024)"
      ]
     },
     "execution_count": 11,
     "metadata": {},
     "output_type": "execute_result"
    }
   ],
   "source": [
    "embeddings.shape"
   ]
  },
  {
   "cell_type": "code",
   "execution_count": 12,
   "metadata": {},
   "outputs": [
    {
     "name": "stdout",
     "output_type": "stream",
     "text": [
      "2025-05-08 14:50:36.094046 : Embedding 1 documents with embed-english-v3.0...\n"
     ]
    },
    {
     "name": "stderr",
     "output_type": "stream",
     "text": [
      "100%|███████████████████████████████████████████████████████| 1/1 [00:00<00:00,  6.13it/s]"
     ]
    },
    {
     "name": "stdout",
     "output_type": "stream",
     "text": [
      "2025-05-08 14:50:36.258734 : Searching...\n"
     ]
    },
    {
     "name": "stderr",
     "output_type": "stream",
     "text": [
      "\n"
     ]
    }
   ],
   "source": [
    "res = dense_search(qry, notes, embeddings=embeddings, verbose=True)"
   ]
  },
  {
   "cell_type": "code",
   "execution_count": 13,
   "metadata": {
    "scrolled": true
   },
   "outputs": [
    {
     "name": "stdout",
     "output_type": "stream",
     "text": [
      "<div><b>Myocardial infarction</b> often presents with severe <i>crushing </i>chest pain <u>lasting {{c1::&gt; 20}} minutes</u> that radiates to the {{c2::<b>left arm</b>}} or {{c2::<b>jaw</b>}} </div> Other symptoms include <b>diaphoresis</b>, <b>nausea</b>, vomiting, severe retrosternal pain, <b>shortness of breath</b>, and fatigue     <div><i><img src=\"paste-296039210812552.jpg\"></i></div><br> <img src=\"bde56c5d21fe142edba03359678155de.webp\"><img src=\"1342fb2a84d994e8e5ae58fee322ea02.webp\"><img src=\"1bc6e745a3cbf3b2a79dd3ba4d184c41.webp\"><br><a href=\"https://dashboard.sketchy.com/study/medical/courses/medical-pathophysiology/units/medical-pathophysiology-cardiac/videos/medical-pathophysiology-cardiac-ischemic-heart-disease-acute-myocardial-infarction-and-post-mi-timeline?utm_source=anki&amp;utm_medium=partnership&amp;utm_campaign=february_update&amp;utm_content=medical\">Watch Acute Myocardial Infarction &amp; Post MI Timeline</a> <img src=\"65402f0d7d58bdf6c07550e6fc9a4101.webp\"><br><img alt=\"Lesson Review\" src=\"71885e1457b4fe7671eed13f8d99601f.webp\"><br><a href=\"https://dashboard.sketchy.com/study/medical/courses/medical-internal-medicine/units/medical-internal-medicine-cardiology/videos/medical-internal-medicine-cardiology-stemi-soa\">Watch STEMI SOA</a><br><br><img src=\"9f53fc2ba71a568136b006e5611549c5.webp\"><br><img src=\"0a65170dc354f6b42961a66b404d05cf.webp\"><br><br><img src=\"9f209817cce4fb20d14654d167a44126.webp\"><br><img src=\"f49aeccac8054b01f592831f88d3622a.webp\"><br><a href=\"https://app.sketchy.com/study/medical/chapter/abdominal-trauma/lesson/abdominal-surgical-emergencies\">Watch Abdominal Surgical Emergencies</a><br><br><img src=\"7c72ee967c3e60ffa49d9986bf51a000.webp\"><img src=\"f2921ec77bb4408974e954363580b7df.webp\"><br><img src=\"c4337d5c5a710487d9c2ed1c6c57f1b8.webp\"><br><a href=\"https://app.sketchy.com/study/medical/chapter/blood-pressure/lesson/hypertensive-emergency-soap\">Watch Hypertensive Emergency SOAP</a><br><br><img src=\"d0a7ad38c3165ce71ebb6270e37ac3a8.webp\"><br><img src=\"49077a82a84da1fb8b786e44bcabb015.webp\"><br><a href=\"https://app.sketchy.com/study/medical/chapter/upper--lower-respiratory-symptoms/lesson/approach-to-shortness-of-breath\">Watch Approach to Shortness of Breath</a><br><br><img src=\"07189d32b05c88548ac0a6c2e7a152d5.webp\"><br><img src=\"afefd5b45a699fba8a888a82c57c8f52.webp\">     <a href=\"https://app.bootcamp.com/med-school/cardiology/videos/myocardial-infarction?index=4\">Watch associated Bootcamp video - Myocardial Infarction: Myocardial Infarction</a> <div class=\"ome-widget\"><a href=\"https://learn.onlinemeded.com/courses/take/pace-cs-im-01-cardiology/pdfs/39347612-prime-notes?ref=anki\"><img src=\"_OME_AnkiFlashcards_Lesson_2.png\"></a></div><br> <br><br> \n",
      "-----\n",
      "<div><b>Myocardial infarction</b> may present with {{c1::dyspnea}} due to pulmonary congestion and edema </div> Also may present with <b>diaphoresis</b>     <img src=\"paste-296039210812552.jpg\"><br><br> <div>* Giant anvil above jester = crushing substernal chest pain</div><div><img src=\"19ff23828df1f8198e7638131d814d10.webp\"><img src=\"Screen Shot 2019-12-16 at 10.36.03 PM.JPG\"><img src=\"Screen Shot 2019-12-16 at 10.36.12 PM.JPG\"><img src=\"1bc6e745a3cbf3b2a79dd3ba4d184c41.webp\"><br></div><a href=\"https://dashboard.sketchy.com/study/medical/courses/medical-pathophysiology/units/medical-pathophysiology-cardiac/videos/medical-pathophysiology-cardiac-ischemic-heart-disease-acute-myocardial-infarction-and-post-mi-timeline?utm_source=anki&amp;utm_medium=partnership&amp;utm_campaign=february_update&amp;utm_content=medical\">Watch Acute Myocardial Infarction &amp; Post MI Timeline</a> <img src=\"305f123d5d0a6e4afe966a5656f2a78a.webp\"><br><img alt=\"Lesson Review\" src=\"71885e1457b4fe7671eed13f8d99601f.webp\"><br><a href=\"https://dashboard.sketchy.com/study/medical/courses/medical-internal-medicine/units/medical-internal-medicine-cardiology/videos/medical-internal-medicine-cardiology-stemi-soa\">Watch STEMI SOA</a><br><br><img src=\"5746519f990f26a91e3008079596c9be.webp\"><br><img src=\"4cf2541f9ac2e901b594d1f9df7a54de.webp\"><br><br><img src=\"3620156a59f5eaceb893473e67e0868d.webp\"><br><img src=\"089f8e65a9360ca4eb0ea46802959c10.webp\"><br><img src=\"d1be075441703b1a01cef4df45c330a2.webp\"><br><a href=\"https://dashboard.sketchy.com/study/medical/courses/medical-internal-medicine/units/medical-internal-medicine-pulmonology/videos/medical-internal-medicine-pulmonology-acute-dyspnea-ddx---non-respiratory-etiologies\">Watch Acute Dyspnea DDx: Non-Respiratory Etiologies</a><br><br><img src=\"48ebac7fc4dc751774ae495beff3682f.webp\"><img src=\"b97a0eb56bf88a42eadc39e898d8c82f.webp\"><img src=\"93acb5846ec1a44df1e0ab173134bb6a.webp\"><br><a href=\"https://dashboard.sketchy.com/study/medical/courses/medical-internal-medicine/units/medical-internal-medicine-gastroenterology/videos/medical-internal-medicine-gastroenterology-esophageal-and-gastric-disorders-upper-abdominal-pain-ddx\">Watch Upper Abdominal Pain DDx</a><br><br><img src=\"eea9de1f106548f69dc720f7a4766013.webp\"><br><img src=\"afefd5b45a699fba8a888a82c57c8f52.webp\"><br><br><img src=\"40090208d9797d4caf2676467767a26d.webp\"><br><img src=\"12326a631e1e1ccf3fa7ac79de9b000c.webp\">     <a href=\"https://app.bootcamp.com/med-school/cardiology/videos/myocardial-infarction?index=4\">Watch associated Bootcamp video - Myocardial Infarction: Myocardial Infarction</a> <div class=\"ome-widget\"><a href=\"https://learn.onlinemeded.com/collections/cardiac?ref=anki\"><img src=\"_OME_AnkiFlashcards_Topic_1.png\"></a></div><br> <br><br> \n",
      "-----\n",
      "<b>Myocardial infarction</b> with occlusion of the {{c1::<u>right</u>}} coronary artery may present with <b>bradycardia </b>and/or <b>heart</b> <b>block</b> - The RCA usually supplies blood to the SA and AV nodes, thus <b>bradyarrhythmias</b>&nbsp;and <b>heart block</b> are frequently present<br><br><div>- Marked <b>hypotension</b>&nbsp;is also a characteristic feature of RV MI</div><br><div>- The infarcted right ventricle experiences acute contractile dysfunction and is often unable to pump adequate blood through the pulmonary circulation, resulting in decreased left ventricular preload, reduced cardiac output, and hypotension</div>      <img src=\"a06f85911ca304a631d855188e73f2a7.webp\"><img src=\"a82e0177c459db75dd2d258ff7d19a9d.webp\"><img src=\"1bc6e745a3cbf3b2a79dd3ba4d184c41.webp\"><br><a href=\"https://dashboard.sketchy.com/study/medical/courses/medical-pathophysiology/units/medical-pathophysiology-cardiac/videos/medical-pathophysiology-cardiac-ischemic-heart-disease-acute-myocardial-infarction-and-post-mi-timeline?utm_source=anki&amp;utm_medium=partnership&amp;utm_campaign=february_update&amp;utm_content=medical\">Watch Acute Myocardial Infarction &amp; Post MI Timeline</a> <div><img src=\"d66ccae3613ade7aa6bdabaae85b7809.webp\"><img src=\"b0bb725e1ecb377285046cced1885a09.webp\"><img src=\"702c7fb80a0ffd80b82169ab95d6ddd1.webp\"><img src=\"1405cc690410c48097cf12c5a670664f.webp\"><img src=\"b77bb849c0059a038cd64bdfd1570c7d.webp\"></div>\n",
      "<br><a href=\"https://www.sketchy.com/medical-lessons/bradycardia-ddx-and-soap\">Watch Bradycardia DDx and SOAP</a><br><br><img src=\"78a8fbc1bebdcfebe897c923fbfa939c.webp\"><img src=\"c9c7733a32659bd88e4d84ca5defc37a.webp\"><img src=\"b75dba41f764649bef2f3a76e25d87dc.webp\"><br><img alt=\"Lesson Review\" src=\"0cb158b47f15f493dd6426cb7a1d80fa.webp\"><br><a href=\"https://dashboard.sketchy.com/study/medical/courses/medical-internal-medicine/units/medical-internal-medicine-cardiology/videos/medical-internal-medicine-cardiology-mi-complications-soap\">Watch MI Complications SOAP</a><br><br><br><img src=\"cb7bf53b70df6311d0702e1dd1188538.webp\"><br><img src=\"1ac6ab09bc5cc17b2651b1436f407630.webp\"><img src=\"4cf2541f9ac2e901b594d1f9df7a54de.webp\"><br>     <a href=\"https://app.bootcamp.com/med-school/cardiology/videos/myocardial-infarction?index=4\">Watch associated Bootcamp video - Myocardial Infarction: Myocardial Infarction</a><br><br>\n",
      "\n",
      "<a href=\"https://app.bootcamp.com/med-school/cardiology/videos/conduction-blocks?index=6\">Watch associated Bootcamp video - Conduction Blocks : Cardiac Conduction Blood Supply </a> <div class=\"ome-widget\"><a href=\"https://learn.onlinemeded.com/collections/cardiac?ref=anki\"><img src=\"_OME_AnkiFlashcards_Topic_4.png\"></a></div><br>  \n",
      "-----\n",
      "Patient presents with <b>chest pain </b>and ST depressions on ECG with either:<br><br><div><b>(-) troponins</b>:<b> </b>{{c1::Angina (unstable or stable)}}<br></div><div><div><div><b>(+) troponins</b>: {{c1::NSTEMI}}</div></div></div> <div>(+) troponin tells us tissue is infarcted</div><br><div><img src=\"20eb470e4fc57778fed96e9343a5bc57.webp\" width=\"800px\"><br></div><br><div><img src=\"2771df3f740dd17764658f142b00302b.webp\"><br></div>     <i><img src=\"ischimicheartdz.PNG\"></i>  <img src=\"40efe175af253f69b1182ac73e54d99d.webp\"><img src=\"3ce5b5b10d08507bf491ffb1f3957cb9.webp\"><img src=\"13e82abdd6b43be574a6cb3e84baa21d.webp\"><img src=\"d2d2ae89bdf3003dbd234289b8b1f867.webp\"><img alt=\"Lesson Review\" src=\"9a74f7d9e45ca3a4f613990643582c43.webp\"><br><img src=\"21920e928b9f4d801fc87756889a889e.webp\"><br><a href=\"https://dashboard.sketchy.com/study/medical/courses/medical-internal-medicine/units/medical-internal-medicine-cardiology/videos/medical-internal-medicine-cardiology-cardiac-chest-pain-ddx\">Watch Cardiac Chest Pain DDx</a><br><br><img src=\"c6dc27fd22d09396391e729255727754.webp\"><img src=\"2857cd0e5920d1dd3361f4980f2229a0.webp\"><img src=\"a0b3c6d81b6e5978c359feb7f13ec7db.webp\"><br><a href=\"https://app.sketchy.com/study/medical/chapter/ischemic-heart-disease-2/lesson/unstable-angina-nstemi\">Watch Unstable Angina &amp; NSTEMI</a><br><br><img src=\"59957f3c6e62c9c86ad6988d5c2e47df.webp\"><img src=\"ee63f25c2e1fda060e866426bd4fb6d3.webp\"><img src=\"afefd5b45a699fba8a888a82c57c8f52.webp\"><br><br><img src=\"a111c451cb94e90a781eac1b5886e6e9.webp\"><img src=\"0a65170dc354f6b42961a66b404d05cf.webp\"><br><br><img src=\"dee05591d723d669c2e3fdecfa6df963.webp\"><img src=\"189ed96a9f96925d5bc9ddaa29bc2afb.webp\"><br><a href=\"https://app.sketchy.com/study/medical/chapter/heart-failure-2/lesson/chronic-heart-failure-workup--ddx\">Watch Chronic Heart Failure: Workup &amp; DDx</a>      <div class=\"ome-widget\"><a href=\"https://learn.onlinemeded.com/courses/take/intern-content-managing-common-medical-problems/lessons/41790521-coronary-artery-disease?ref=anki\"><img src=\"_OME_AnkiFlashcards_Lesson_6.png\"></a></div><br>  \n",
      "-----\n",
      "<div><div><b>Stable angina</b> often presents with chest pain <u>lasting {{c1::&lt; 20}} minutes</u> that radiates to the <b>{{c2::left arm}}</b> or <b>{{c2::jaw}}</b> </div></div> May also present with <b>diaphoresis</b> and <b>shortness of breath</b> (SOB)<br><br><img src=\"20eb470e4fc57778fed96e9343a5bc57.webp\" width=\"800px\">     <img src=\"tmpaEP_cE.png\"><br> <div><img src=\"63b005794fb2cd6ee3ef8d5a3e5aaaa5.webp\"><img src=\"74894f1a92e5adaacbafaca110083085.webp\"><img src=\"fba1fd72dc8260f3f7231a3509257918.webp\"><br></div><a href=\"https://dashboard.sketchy.com/study/medical/courses/medical-pathophysiology/units/medical-pathophysiology-cardiac/videos/medical-pathophysiology-cardiac-ischemic-heart-disease-stable-angina-vasospastic-angina-and-acute-coronary-syndromes-ua-nstemi-stemi?utm_source=anki&amp;utm_medium=partnership&amp;utm_campaign=february_update&amp;utm_content=medical\">Watch Stable Angina, Vasospastic Angina, &amp; Acute Coronary Syndromes (UA, NSTEMI, STEMI)</a> <img src=\"ae4747e147f28c1f316de4027c466677.webp\"><img src=\"f566b281e6206301a6214082491aa5dd.webp\">\n",
      "<img alt=\"Lesson Review\" src=\"464af7f55e01fc2843a4e54f3a2716c1.webp\"><br>\n",
      "<a href=\"https://dashboard.sketchy.com/study/medical/courses/medical-internal-medicine/units/medical-internal-medicine-cardiology/videos/medical-internal-medicine-cardiology-acs-introduction--stable-angina-soap\">Watch ACS&nbsp;Intro &amp;&nbsp;Stable Angina&nbsp;SOAP</a><br><br><img src=\"551d7b10fcb2eabba26d14f8147e8989.webp\"><img src=\"3c14f96bc555185a08b06ba702eb398b.webp\"><img src=\"dbc077fe9fbcb0e51219e3e9d2435c11.webp\"><img src=\"e6bad8dc8e22bee9d1807b89f710ad72.webp\"><br><img src=\"a2ad4ed3e0de35300388fcfaa452d0fc.webp\"><br><img src=\"0a65170dc354f6b42961a66b404d05cf.webp\"><br><br><img src=\"07189d32b05c88548ac0a6c2e7a152d5.webp\"><br><img src=\"afefd5b45a699fba8a888a82c57c8f52.webp\">     <a href=\"https://app.bootcamp.com/med-school/cardiology/videos/stable-angina-and-atherosclerosis?index=10\">Watch associated Bootcamp video - Stable Angina and Atherosclerosis: Stable Angina</a> <div class=\"ome-widget\"><a href=\"https://learn.onlinemeded.com/collections/cardiac?ref=anki\"><img src=\"_OME_AnkiFlashcards_Topic_1.png\"></a></div><br>  \n",
      "-----\n"
     ]
    }
   ],
   "source": [
    "sorted_results = sorted(res[0], key=lambda x: x[\"similarity\"], reverse=True)\n",
    "\n",
    "for r in sorted_results[:5]:\n",
    "    print(r['content'])\n",
    "    print('-'*5)"
   ]
  },
  {
   "cell_type": "markdown",
   "metadata": {},
   "source": [
    "### Sparse"
   ]
  },
  {
   "cell_type": "code",
   "execution_count": 14,
   "metadata": {},
   "outputs": [],
   "source": [
    "from search_lib.search import sparse_search, tokenize_notes"
   ]
  },
  {
   "cell_type": "code",
   "execution_count": 15,
   "metadata": {
    "scrolled": true
   },
   "outputs": [
    {
     "name": "stdout",
     "output_type": "stream",
     "text": [
      "2025-05-08 14:50:37.636270 : Tokenizing 28664 notes...\n"
     ]
    },
    {
     "name": "stderr",
     "output_type": "stream",
     "text": [
      "100%|████████████████████████████████████████████| 28664/28664 [00:01<00:00, 16505.89it/s]\n"
     ]
    }
   ],
   "source": [
    "tokens = tokenize_notes(notes, verbose=True)"
   ]
  },
  {
   "cell_type": "code",
   "execution_count": 27,
   "metadata": {},
   "outputs": [
    {
     "data": {
      "text/plain": [
       "Tokenized(ids=[[0, 1, 2, 3, 3, 1, 4, 5, 6, 3, 7, 8, 9, 10, 11, 12, 13, 14, 15, 16, 17, 18, 19, 20, 21, 22, 23, 24, 13, 25, 26, 26, 27, 28, 5, 29, 30, 2, 31, 8, 9, 10, 11, 12, 32, 33, 14, 34, 2, 35, 33, 26, 26, 36, 37, 32, 38, 39, 40, 41, 8, 9, 10, 11, 12, 32, 42, 43, 14, 16, 2, 44, 38, 45, 46, 47, 48, 49, 36, 29, 3, 8, 9, 10, 11, 12, 50, 51, 52, 53, 54, 55, 3, 26, 41, 56, 57, 58, 59, 3, 8, 9, 10, 11, 12, 14, 16, 2, 60, 61, 62, 60, 61, 26, 63, 64, 65, 8, 9, 10, 11, 12, 66, 64, 67, 10, 3, 26, 26, 36, 68, 69, 70, 28, 59, 3, 8, 9, 10, 11, 12, 14, 16, 2, 71, 72, 73, 72, 3, 74, 29, 75, 76, 77, 72, 78, 79, 26, 26, 80, 36, 81, 82, 83, 14, 5, 84, 2, 85, 86, 87, 88, 89, 3, 90, 91, 92, 93, 94, 95, 90, 3, 3, 90, 91, 92, 93, 94, 95, 90, 3, 29, 96, 97, 85, 98, 98, 99, 36, 88, 100, 3, 90, 91, 92, 93, 94, 95, 90, 3, 101, 102, 103, 3, 90, 91, 92, 93, 94, 95, 90, 3, 101, 29, 104, 96, 36, 88, 97, 100, 3, 8, 9, 105, 12, 106, 107, 108, 14, 5, 84, 109, 3, 110, 111, 112, 113, 87, 114, 115, 87, 116]], vocab={'instructions': 0, 'using': 1, 'deck': 2, 'nbsp': 3, 'customizing': 4, 'note': 5, 'type': 6, 'go': 7, 'href': 8, 'https': 9, 'community': 10, 'ankihub': 11, 'net': 12, 'wiki': 13, 'anking': 14, 'overhaul': 15, 'step': 16, 'ankingmed': 17, '114092': 18, '_gl': 19, '15fqpnu': 20, '_ga': 21, 'mta1oteynjc5ni4xnjkxoda1mti5': 22, '_ga_t2zf93tkf6': 23, 'mtcwnzqxmzqwos45otcums4xnza3nde5ntewljaumc4w': 24, 'guide': 25, 'br': 26, 'c1': 27, 'please': 28, 'all': 29, 'organization': 30, 'tags': 31, 'why': 32, 'subdecks': 33, 'v12': 34, '129271': 35, 'you': 36, 'wondering': 37, 'cards': 38, 'showing': 39, 'up': 40, 'see': 41, 'does': 42, 'my': 43, 'have': 44, '131517': 45, 'post': 46, 'answer': 47, 'huge': 48, 'thank': 49, 'docs': 50, 'topic': 51, '134040': 52, 'contributors': 53, 'amp': 54, 'maintainers': 55, 'what': 56, 'being': 57, 'updated': 58, 'check': 59, 'update': 60, 'log': 61, '166499': 62, 'need': 63, 'help': 64, 'visit': 65, 'getting': 66, '167141': 67, 'want': 68, 'submit': 69, 'suggestion': 70, 'submission': 71, 'guidelines': 72, '166504': 73, 'first': 74, 'suggestions': 75, 'do': 76, 'follow': 77, 'automatically': 78, 'rejected': 79, 'those': 80, 'aren': 81, 'familiar': 82, 'anki': 83, 'types': 84, 'includes': 85, 'buttons': 86, 'fields': 87, 'can': 88, 'opened': 89, 'span': 90, 'style': 91, 'color': 92, 'rgb': 93, '255': 94, '127': 95, 'once': 96, 'also': 97, 'one': 98, 'notes': 99, 'use': 100, 'toggle': 101, 'each': 102, 'box': 103, 'them': 104, 'ankiweb': 105, 'shared': 106, 'info': 107, '952691989': 108, 'add': 109, 'customize': 110, 'shortcuts': 111, 'auto': 112, 'open': 113, 're': 114, 'order': 115, 'etc': 116})"
      ]
     },
     "execution_count": 27,
     "metadata": {},
     "output_type": "execute_result"
    }
   ],
   "source": [
    "tokens[0]"
   ]
  },
  {
   "cell_type": "code",
   "execution_count": 19,
   "metadata": {},
   "outputs": [
    {
     "data": {
      "application/vnd.jupyter.widget-view+json": {
       "model_id": "9735d73b369d4ee3af02d0a40770c61c",
       "version_major": 2,
       "version_minor": 0
      },
      "text/plain": [
       "BM25S Create Vocab:   0%|          | 0/28664 [00:00<?, ?it/s]"
      ]
     },
     "metadata": {},
     "output_type": "display_data"
    },
    {
     "ename": "TypeError",
     "evalue": "unhashable type: 'list'",
     "output_type": "error",
     "traceback": [
      "\u001b[31m---------------------------------------------------------------------------\u001b[39m",
      "\u001b[31mTypeError\u001b[39m                                 Traceback (most recent call last)",
      "\u001b[36mCell\u001b[39m\u001b[36m \u001b[39m\u001b[32mIn[19]\u001b[39m\u001b[32m, line 1\u001b[39m\n\u001b[32m----> \u001b[39m\u001b[32m1\u001b[39m res = \u001b[43msparse_search\u001b[49m\u001b[43m(\u001b[49m\u001b[43mqry\u001b[49m\u001b[43m,\u001b[49m\u001b[43m \u001b[49m\u001b[43mnotes\u001b[49m\u001b[43m)\u001b[49m\n",
      "\u001b[36mCell\u001b[39m\u001b[36m \u001b[39m\u001b[32mIn[18]\u001b[39m\u001b[32m, line 9\u001b[39m, in \u001b[36msparse_search\u001b[39m\u001b[34m(query, notes, notes_tokens, top_k, verbose)\u001b[39m\n\u001b[32m      7\u001b[39m \u001b[38;5;66;03m# Initialize BM25 with corpus\u001b[39;00m\n\u001b[32m      8\u001b[39m retriever = bm25s.BM25(corpus=notes_tokens)\n\u001b[32m----> \u001b[39m\u001b[32m9\u001b[39m \u001b[43mretriever\u001b[49m\u001b[43m.\u001b[49m\u001b[43mindex\u001b[49m\u001b[43m(\u001b[49m\u001b[43mnotes_tokens\u001b[49m\u001b[43m)\u001b[49m\n\u001b[32m     10\u001b[39m \u001b[38;5;28;01mif\u001b[39;00m verbose: \u001b[38;5;28mprint\u001b[39m(\u001b[33mf\u001b[39m\u001b[33m\"\u001b[39m\u001b[38;5;132;01m{\u001b[39;00mdatetime.now()\u001b[38;5;132;01m}\u001b[39;00m\u001b[33m : Searching...\u001b[39m\u001b[33m\"\u001b[39m)\n\u001b[32m     11\u001b[39m \u001b[38;5;66;03m# Get query tokens and retrieve results\u001b[39;00m\n",
      "\u001b[36mFile \u001b[39m\u001b[32m~/.venv/lib/python3.12/site-packages/bm25s/__init__.py:455\u001b[39m, in \u001b[36mBM25.index\u001b[39m\u001b[34m(self, corpus, create_empty_token, show_progress, leave_progress)\u001b[39m\n\u001b[32m    453\u001b[39m \u001b[38;5;28;01mif\u001b[39;00m inferred_corpus_obj == \u001b[33m\"\u001b[39m\u001b[33mtokens\u001b[39m\u001b[33m\"\u001b[39m:\n\u001b[32m    454\u001b[39m     logger.debug(msg=\u001b[33m\"\u001b[39m\u001b[33mBuilding index from tokens\u001b[39m\u001b[33m\"\u001b[39m)\n\u001b[32m--> \u001b[39m\u001b[32m455\u001b[39m     scores, vocab_dict = \u001b[38;5;28;43mself\u001b[39;49m\u001b[43m.\u001b[49m\u001b[43mbuild_index_from_tokens\u001b[49m\u001b[43m(\u001b[49m\n\u001b[32m    456\u001b[39m \u001b[43m        \u001b[49m\u001b[43mcorpus\u001b[49m\u001b[43m,\u001b[49m\u001b[43m \u001b[49m\u001b[43mleave_progress\u001b[49m\u001b[43m=\u001b[49m\u001b[43mleave_progress\u001b[49m\u001b[43m,\u001b[49m\u001b[43m \u001b[49m\u001b[43mshow_progress\u001b[49m\u001b[43m=\u001b[49m\u001b[43mshow_progress\u001b[49m\n\u001b[32m    457\u001b[39m \u001b[43m    \u001b[49m\u001b[43m)\u001b[49m\n\u001b[32m    458\u001b[39m \u001b[38;5;28;01melse\u001b[39;00m:\n\u001b[32m    459\u001b[39m     \u001b[38;5;28;01mif\u001b[39;00m inferred_corpus_obj == \u001b[33m\"\u001b[39m\u001b[33mtuple\u001b[39m\u001b[33m\"\u001b[39m:\n",
      "\u001b[36mFile \u001b[39m\u001b[32m~/.venv/lib/python3.12/site-packages/bm25s/__init__.py:381\u001b[39m, in \u001b[36mBM25.build_index_from_tokens\u001b[39m\u001b[34m(self, corpus_tokens, show_progress, leave_progress)\u001b[39m\n\u001b[32m    374\u001b[39m \u001b[38;5;28;01mdef\u001b[39;00m\u001b[38;5;250m \u001b[39m\u001b[34mbuild_index_from_tokens\u001b[39m(\n\u001b[32m    375\u001b[39m     \u001b[38;5;28mself\u001b[39m, corpus_tokens, show_progress=\u001b[38;5;28;01mTrue\u001b[39;00m, leave_progress=\u001b[38;5;28;01mFalse\u001b[39;00m\n\u001b[32m    376\u001b[39m ):\n\u001b[32m    377\u001b[39m \u001b[38;5;250m    \u001b[39m\u001b[33;03m\"\"\"\u001b[39;00m\n\u001b[32m    378\u001b[39m \u001b[33;03m    Low-level function to build the BM25 index from tokens, used by the `index` method.\u001b[39;00m\n\u001b[32m    379\u001b[39m \u001b[33;03m    You can override this function if you want to build the index in a different way.\u001b[39;00m\n\u001b[32m    380\u001b[39m \u001b[33;03m    \"\"\"\u001b[39;00m\n\u001b[32m--> \u001b[39m\u001b[32m381\u001b[39m     unique_tokens = \u001b[43mget_unique_tokens\u001b[49m\u001b[43m(\u001b[49m\n\u001b[32m    382\u001b[39m \u001b[43m        \u001b[49m\u001b[43mcorpus_tokens\u001b[49m\u001b[43m,\u001b[49m\n\u001b[32m    383\u001b[39m \u001b[43m        \u001b[49m\u001b[43mshow_progress\u001b[49m\u001b[43m=\u001b[49m\u001b[43mshow_progress\u001b[49m\u001b[43m,\u001b[49m\n\u001b[32m    384\u001b[39m \u001b[43m        \u001b[49m\u001b[43mleave_progress\u001b[49m\u001b[43m=\u001b[49m\u001b[43mleave_progress\u001b[49m\u001b[43m,\u001b[49m\n\u001b[32m    385\u001b[39m \u001b[43m        \u001b[49m\u001b[43mdesc\u001b[49m\u001b[43m=\u001b[49m\u001b[33;43m\"\u001b[39;49m\u001b[33;43mBM25S Create Vocab\u001b[39;49m\u001b[33;43m\"\u001b[39;49m\u001b[43m,\u001b[49m\n\u001b[32m    386\u001b[39m \u001b[43m    \u001b[49m\u001b[43m)\u001b[49m\n\u001b[32m    387\u001b[39m     vocab_dict = {token: i \u001b[38;5;28;01mfor\u001b[39;00m i, token \u001b[38;5;129;01min\u001b[39;00m \u001b[38;5;28menumerate\u001b[39m(unique_tokens)}\n\u001b[32m    388\u001b[39m     unique_token_ids = [vocab_dict[token] \u001b[38;5;28;01mfor\u001b[39;00m token \u001b[38;5;129;01min\u001b[39;00m unique_tokens]\n",
      "\u001b[36mFile \u001b[39m\u001b[32m~/.venv/lib/python3.12/site-packages/bm25s/__init__.py:86\u001b[39m, in \u001b[36mget_unique_tokens\u001b[39m\u001b[34m(corpus_tokens, show_progress, leave_progress, desc)\u001b[39m\n\u001b[32m     82\u001b[39m unique_tokens = \u001b[38;5;28mset\u001b[39m()\n\u001b[32m     83\u001b[39m \u001b[38;5;28;01mfor\u001b[39;00m doc_tokens \u001b[38;5;129;01min\u001b[39;00m tqdm(\n\u001b[32m     84\u001b[39m     corpus_tokens, desc=desc, disable=\u001b[38;5;129;01mnot\u001b[39;00m show_progress, leave=leave_progress\n\u001b[32m     85\u001b[39m ):\n\u001b[32m---> \u001b[39m\u001b[32m86\u001b[39m     \u001b[43munique_tokens\u001b[49m\u001b[43m.\u001b[49m\u001b[43mupdate\u001b[49m\u001b[43m(\u001b[49m\u001b[43mdoc_tokens\u001b[49m\u001b[43m)\u001b[49m\n\u001b[32m     87\u001b[39m \u001b[38;5;28;01mreturn\u001b[39;00m unique_tokens\n",
      "\u001b[31mTypeError\u001b[39m: unhashable type: 'list'"
     ]
    }
   ],
   "source": [
    "res = sparse_search(qry, notes)"
   ]
  },
  {
   "cell_type": "markdown",
   "metadata": {},
   "source": [
    "You can use the components to create you own"
   ]
  },
  {
   "cell_type": "markdown",
   "metadata": {},
   "source": [
    "# Post Search\n",
    "\n",
    "This holds anything that happens after the primary search, such as reranking."
   ]
  },
  {
   "cell_type": "code",
   "execution_count": null,
   "metadata": {},
   "outputs": [
    {
     "ename": "ModuleNotFoundError",
     "evalue": "No module named 'search_lib.query_processor'",
     "output_type": "error",
     "traceback": [
      "\u001b[31m---------------------------------------------------------------------------\u001b[39m",
      "\u001b[31mModuleNotFoundError\u001b[39m                       Traceback (most recent call last)",
      "\u001b[36mCell\u001b[39m\u001b[36m \u001b[39m\u001b[32mIn[9]\u001b[39m\u001b[32m, line 1\u001b[39m\n\u001b[32m----> \u001b[39m\u001b[32m1\u001b[39m \u001b[38;5;28;01mfrom\u001b[39;00m\u001b[38;5;250m \u001b[39m\u001b[34;01msearch_lib\u001b[39;00m\u001b[34;01m.\u001b[39;00m\u001b[34;01mquery_processor\u001b[39;00m\u001b[38;5;250m \u001b[39m\u001b[38;5;28;01mimport\u001b[39;00m decompose_query\n\u001b[32m      2\u001b[39m \u001b[38;5;28;01mfrom\u001b[39;00m\u001b[38;5;250m \u001b[39m\u001b[34;01msearch_lib\u001b[39;00m\u001b[34;01m.\u001b[39;00m\u001b[34;01mchunking\u001b[39;00m\u001b[38;5;250m \u001b[39m\u001b[38;5;28;01mimport\u001b[39;00m chunk_pdf\n\u001b[32m      3\u001b[39m \u001b[38;5;28;01mfrom\u001b[39;00m\u001b[38;5;250m \u001b[39m\u001b[34;01msearch_lib\u001b[39;00m\u001b[34;01m.\u001b[39;00m\u001b[34;01msearch\u001b[39;00m\u001b[38;5;250m \u001b[39m\u001b[38;5;28;01mimport\u001b[39;00m bm25_search, search_weaviate\n",
      "\u001b[31mModuleNotFoundError\u001b[39m: No module named 'search_lib.query_processor'"
     ]
    }
   ],
   "source": [
    "from search_lib.post_search import cohere_reranker, llm_reranker"
   ]
  },
  {
   "cell_type": "code",
   "execution_count": null,
   "metadata": {},
   "outputs": [],
   "source": []
  },
  {
   "cell_type": "code",
   "execution_count": null,
   "metadata": {},
   "outputs": [],
   "source": []
  }
 ],
 "metadata": {
  "kernelspec": {
   "display_name": "Python 3 (ipykernel)",
   "language": "python",
   "name": "python3"
  },
  "language_info": {
   "codemirror_mode": {
    "name": "ipython",
    "version": 3
   },
   "file_extension": ".py",
   "mimetype": "text/x-python",
   "name": "python",
   "nbconvert_exporter": "python",
   "pygments_lexer": "ipython3",
   "version": "3.12.8"
  }
 },
 "nbformat": 4,
 "nbformat_minor": 2
}
