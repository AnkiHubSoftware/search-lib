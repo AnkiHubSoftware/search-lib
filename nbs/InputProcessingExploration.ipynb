{
 "cells": [
  {
   "cell_type": "markdown",
   "id": "d9a8d9e6",
   "metadata": {
    "jp-MarkdownHeadingCollapsed": true
   },
   "source": [
    "# Setup"
   ]
  },
  {
   "cell_type": "code",
   "execution_count": 1,
   "id": "17587ceb",
   "metadata": {},
   "outputs": [
    {
     "data": {
      "text/plain": [
       "True"
      ]
     },
     "execution_count": 1,
     "metadata": {},
     "output_type": "execute_result"
    }
   ],
   "source": [
    "import dotenv\n",
    "dotenv.load_dotenv()"
   ]
  },
  {
   "cell_type": "code",
   "execution_count": 2,
   "id": "f1336ec9",
   "metadata": {},
   "outputs": [],
   "source": [
    "import httpx, os, json\n",
    "import pandas as pd\n",
    "import numpy as np\n",
    "import matplotlib.pyplot as plt\n",
    "from tqdm.auto import tqdm\n",
    "from urllib.parse import urlparse\n",
    "import phoenix as px\n",
    "from phoenix.experiments import run_experiment\n",
    "\n",
    "from search_lib.load_data import download_sqlite_file, get_notes\n",
    "from search_lib.search import sparse_search, dense_search, hybrid_search\n",
    "from search_lib.evals import average_precision_evaluator, r_precision_evaluator, nrbp_evaluator\n",
    "import search_lib.evals\n",
    "from search_lib.pre_search import keyword_expansion"
   ]
  },
  {
   "cell_type": "code",
   "execution_count": 3,
   "id": "71c462cf",
   "metadata": {},
   "outputs": [],
   "source": [
    "from search_lib.pre_search import decompose_query\n",
    "from search_lib.post_search import cohere_rerank\n",
    "from functools import partial\n",
    "from fastcore.parallel import parallel"
   ]
  },
  {
   "cell_type": "code",
   "execution_count": 4,
   "id": "e8fe668e",
   "metadata": {},
   "outputs": [],
   "source": [
    "import nest_asyncio\n",
    "nest_asyncio.apply()"
   ]
  },
  {
   "cell_type": "code",
   "execution_count": 5,
   "id": "6778a7b0",
   "metadata": {},
   "outputs": [
    {
     "name": "stdout",
     "output_type": "stream",
     "text": [
      "Downloading SQLite file for deck: AnKing Step Deck\n"
     ]
    },
    {
     "data": {
      "text/plain": [
       "Path('AnKing Step Deck.sqlite')"
      ]
     },
     "execution_count": 5,
     "metadata": {},
     "output_type": "execute_result"
    }
   ],
   "source": [
    "db_path = download_sqlite_file()\n",
    "db_path"
   ]
  },
  {
   "cell_type": "code",
   "execution_count": 6,
   "id": "ea0b7d74",
   "metadata": {},
   "outputs": [
    {
     "name": "stdout",
     "output_type": "stream",
     "text": [
      "Extracted 28664 notes with content\n"
     ]
    },
    {
     "data": {
      "text/plain": [
       "{'id': '10d7cd51-565b-44d6-9858-30cb6ebf51c4',\n",
       " 'content': 'For instructions on <b>using this deck</b>&nbsp;and&nbsp;<b>using/customizing the note type</b>&nbsp;go to <a href=\"https://community.ankihub.net/t/wiki-anking-overhaul-for-step-1-2-by-ankingmed/114092?_gl=1*15fqpnu*_ga*MTA1OTEyNjc5Ni4xNjkxODA1MTI5*_ga_T2ZF93TKF6*MTcwNzQxMzQwOS45OTcuMS4xNzA3NDE5NTEwLjAuMC4w\">the wiki guide</a><br><br>{{c1::Please note that all organization for this deck is in the <b>tags</b>! There are <u><a href=\"https://community.ankihub.net/t/why-are-there-no-subdecks-in-the-anking-v12-deck/129271\">no subdecks</a></u>}}<br><br>If you are wondering why there are <u>0 cards showing up</u>, see this <a href=\"https://community.ankihub.net/t/why-does-my-anking-step-deck-have-0-cards/131517\">post for the answer</a> Huge thank you to all the&nbsp;<a href=\"https://community.ankihub.net/docs?topic=134040\">contributors &amp; maintainers</a>!&nbsp;<br>To see what is being updated, check the&nbsp;<a href=\"https://community.ankihub.net/t/anking-step-deck-update-log/166499\">update log</a><br>Need help? Visit the <a href=\"https://community.ankihub.net/t/getting-help/167141\">community</a>&nbsp;<br><br>If you want to submit a suggestion, please check the&nbsp;<a href=\"https://community.ankihub.net/t/anking-step-deck-submission-guidelines/166504\">guidelines</a>&nbsp;first (all suggestions that do not follow the guidelines will be automatically rejected!)<br><br>❗For those of you that aren’t as familiar with Anki and the AnKing note types, this deck includes buttons for fields that can be opened with&nbsp;<span style=\"color: rgb(255, 0, 127);\">h</span>&nbsp;or&nbsp;<span style=\"color: rgb(255, 0, 127);\">\\'</span>&nbsp;for all at once. It also includes “one by one” notes. You can use&nbsp;<span style=\"color: rgb(255, 0, 127);\">n</span>&nbsp;to toggle each box or&nbsp;<span style=\"color: rgb(255, 0, 127);\">,</span>&nbsp;to toggle all of them at once. You can also use the&nbsp;<a href=\"https://ankiweb.net/shared/info/952691989\">AnKing Note Types add-on</a>&nbsp;to customize these shortcuts, auto open fields, re-order fields, etc               ',\n",
       " 'tags': ['AnkiHub_Subdeck::AnKing_Overhaul_for_Step_1_&_2::Instructions',\n",
       "  'AnkiHub_Instructions']}"
      ]
     },
     "execution_count": 6,
     "metadata": {},
     "output_type": "execute_result"
    }
   ],
   "source": [
    "notes = get_notes(db_path)\n",
    "notes[0]"
   ]
  },
  {
   "cell_type": "code",
   "execution_count": 45,
   "id": "389321aa",
   "metadata": {},
   "outputs": [
    {
     "data": {
      "text/plain": [
       "['AnkiHub_Subdeck::AnKing_Overhaul_for_Step_1_&_2::Instructions',\n",
       " 'AnkiHub_Instructions']"
      ]
     },
     "execution_count": 45,
     "metadata": {},
     "output_type": "execute_result"
    }
   ],
   "source": [
    "notes[0]['tags']"
   ]
  },
  {
   "cell_type": "code",
   "execution_count": 7,
   "id": "0eed9a94",
   "metadata": {},
   "outputs": [],
   "source": [
    "os.environ[\"PHOENIX_COLLECTOR_ENDPOINT\"] = \"https://phx.ankihub.net\""
   ]
  },
  {
   "cell_type": "code",
   "execution_count": 8,
   "id": "80905c5c",
   "metadata": {},
   "outputs": [],
   "source": [
    "client = px.Client()\n",
    "ds = client.get_dataset(name=\"Smart search golden dataset\")"
   ]
  },
  {
   "cell_type": "code",
   "execution_count": 9,
   "id": "7e91c62e",
   "metadata": {},
   "outputs": [
    {
     "data": {
      "text/html": [
       "<div>\n",
       "<style scoped>\n",
       "    .dataframe tbody tr th:only-of-type {\n",
       "        vertical-align: middle;\n",
       "    }\n",
       "\n",
       "    .dataframe tbody tr th {\n",
       "        vertical-align: top;\n",
       "    }\n",
       "\n",
       "    .dataframe thead th {\n",
       "        text-align: right;\n",
       "    }\n",
       "</style>\n",
       "<table border=\"1\" class=\"dataframe\">\n",
       "  <thead>\n",
       "    <tr style=\"text-align: right;\">\n",
       "      <th></th>\n",
       "      <th>input</th>\n",
       "      <th>output</th>\n",
       "      <th>metadata</th>\n",
       "    </tr>\n",
       "    <tr>\n",
       "      <th>example_id</th>\n",
       "      <th></th>\n",
       "      <th></th>\n",
       "      <th></th>\n",
       "    </tr>\n",
       "  </thead>\n",
       "  <tbody>\n",
       "    <tr>\n",
       "      <th>RGF0YXNldEV4YW1wbGU6Nzk=</th>\n",
       "      <td>{'query': 'propofol'}</td>\n",
       "      <td>{'documents': [{'rating': 1.0, 'anki_id': 1523...</td>\n",
       "      <td>{}</td>\n",
       "    </tr>\n",
       "    <tr>\n",
       "      <th>RGF0YXNldEV4YW1wbGU6ODA=</th>\n",
       "      <td>{'query': 'B. Cysticfibrosis\n",
       "CF is the most co...</td>\n",
       "      <td>{'documents': [{'rating': 1.0, 'anki_id': 1473...</td>\n",
       "      <td>{}</td>\n",
       "    </tr>\n",
       "  </tbody>\n",
       "</table>\n",
       "</div>"
      ],
      "text/plain": [
       "                                                                      input  \\\n",
       "example_id                                                                    \n",
       "RGF0YXNldEV4YW1wbGU6Nzk=                              {'query': 'propofol'}   \n",
       "RGF0YXNldEV4YW1wbGU6ODA=  {'query': 'B. Cysticfibrosis\n",
       "CF is the most co...   \n",
       "\n",
       "                                                                     output  \\\n",
       "example_id                                                                    \n",
       "RGF0YXNldEV4YW1wbGU6Nzk=  {'documents': [{'rating': 1.0, 'anki_id': 1523...   \n",
       "RGF0YXNldEV4YW1wbGU6ODA=  {'documents': [{'rating': 1.0, 'anki_id': 1473...   \n",
       "\n",
       "                         metadata  \n",
       "example_id                         \n",
       "RGF0YXNldEV4YW1wbGU6Nzk=       {}  \n",
       "RGF0YXNldEV4YW1wbGU6ODA=       {}  "
      ]
     },
     "execution_count": 9,
     "metadata": {},
     "output_type": "execute_result"
    }
   ],
   "source": [
    "ds.as_dataframe().head(2)"
   ]
  },
  {
   "cell_type": "markdown",
   "id": "c3f46844",
   "metadata": {},
   "source": [
    "# Search\n",
    "\n",
    "Let's create a notebook that demonstrates how to use Phoenix to run a search experiment using BM25 sparse search. We'll go through the entire process from getting the dataset to evaluating the results."
   ]
  },
  {
   "cell_type": "code",
   "execution_count": 10,
   "id": "9a690d3f",
   "metadata": {},
   "outputs": [],
   "source": [
    "def bm25_search_experiment(query, notes, top_k=400):\n",
    "    \"\"\"Search function that will be used in the Phoenix experiment\"\"\"\n",
    "    results = sparse_search(query, notes, top_k=top_k, verbose=False)\n",
    "    formatted_results = []\n",
    "    for result in results:\n",
    "        formatted_results.append({\n",
    "            \"anki_id\": result[\"id\"], \n",
    "            \"content\": result[\"content\"],\n",
    "            \"similarity\": result[\"similarity\"],\n",
    "            \"tags\": result[\"tags\"]})    \n",
    "    return formatted_results"
   ]
  },
  {
   "cell_type": "code",
   "execution_count": 11,
   "id": "70d657fe",
   "metadata": {},
   "outputs": [],
   "source": [
    "import pickle\n",
    "notes_content = [n['content'] for n in notes]\n",
    "embeddings_fpath = 'cohere_embeddings.pkl'\n",
    "if os.path.exists(embeddings_fpath):\n",
    "    with open(embeddings_fpath, 'rb') as f:\n",
    "        embeddings = pickle.load(f)\n",
    "else: \n",
    "    embeddings = embed_cohere(notes_content, verbose=True, input_type='search_document')\n",
    "    with open(embeddings_fpath, 'wb') as f:\n",
    "        pickle.dump(embeddings, f)"
   ]
  },
  {
   "cell_type": "code",
   "execution_count": 12,
   "id": "4365146e",
   "metadata": {},
   "outputs": [],
   "source": [
    "def semantic_search_experiment(query, notes, top_k=400):\n",
    "    \"\"\"Search function that will be used in the Phoenix experiment\"\"\"\n",
    "    results, _ = dense_search(query, notes, top_k=top_k, embeddings=embeddings, verbose=False)\n",
    "    formatted_results = []\n",
    "    for result in results:\n",
    "        formatted_results.append({\n",
    "            \"anki_id\": result[\"id\"], \n",
    "            \"content\": result[\"content\"],\n",
    "            \"similarity\": result[\"similarity\"],\n",
    "            \"tags\": result[\"tags\"]})    \n",
    "    return formatted_results"
   ]
  },
  {
   "cell_type": "markdown",
   "id": "4a5d1ec5-6d1d-4ac1-b61b-061f1dc5d7cc",
   "metadata": {},
   "source": [
    "## Exploration"
   ]
  },
  {
   "cell_type": "markdown",
   "id": "73dbd5ad",
   "metadata": {},
   "source": [
    "Look at an example of running the bm25_search_experiment function on a query.\n",
    "\n",
    "**Important**: This is where we'd iterate with lots of queries and ideas to get an idea of what kinds of queries seem to make sense to us vs which ones do not.  This may lead to questions to ask a domain expert.  Try lots of stuff, before looking at any metrics."
   ]
  },
  {
   "cell_type": "markdown",
   "id": "99c2e52a-eee7-49c9-97fa-79ccf033f7f9",
   "metadata": {
    "heading_collapsed": true
   },
   "source": [
    "### Individual Queries"
   ]
  },
  {
   "cell_type": "code",
   "execution_count": 13,
   "id": "1be1dc3b",
   "metadata": {
    "hidden": true,
    "scrolled": true
   },
   "outputs": [
    {
     "name": "stdout",
     "output_type": "stream",
     "text": [
      "\n",
      "--- Result 1 : 1b0071a5-9ae3-4c6c-8063-20ba6e83c7eb ---\n",
      "Similarity: 0.6339\n",
      "<div><b>Cystic fibrosis</b> may cause {{c1::<u>pancreatic</u>}}<u> insufficiency</u>, resulting in <i>malabsorption</i></div> <img src=\"57415c3098c611\n",
      "\n",
      "--- Result 2 : 85f19d50-8020-42bc-bafb-681e64db7e72 ---\n",
      "Similarity: 0.6276\n",
      "<b>Cystic fibrosis</b> is due to a(n) {{c1::autosomal recessive::inheritance pattern}} <u>CFTR</u> defect; commonly seen in people of {{c2::Northern E\n",
      "\n",
      "--- Result 3 : 27bd0932-a92c-4927-b62b-13c3333ce5b5 ---\n",
      "Similarity: 0.6000\n",
      "<div><b>Cystic fibrosis </b>most commonly occurs due to a(n) {{c2::<u>in-frame</u>}} <u>deletion</u> of {{c1::Phe508}}</div> - This results in an <b>i\n"
     ]
    }
   ],
   "source": [
    "query = \"What causes cystic fibrosis?\"\n",
    "search_results = semantic_search_experiment(query, notes)\n",
    "for i, result in enumerate(search_results[:3]):\n",
    "    print(f\"\\n--- Result {i+1} : {result['anki_id']} ---\\nSimilarity: {result['similarity']:.4f}\\n{result['content'][:150]}\")"
   ]
  },
  {
   "cell_type": "code",
   "execution_count": 14,
   "id": "b0a1d7c1",
   "metadata": {
    "hidden": true,
    "scrolled": true
   },
   "outputs": [
    {
     "data": {
      "application/vnd.jupyter.widget-view+json": {
       "model_id": "",
       "version_major": 2,
       "version_minor": 0
      },
      "text/plain": [
       "Split strings:   0%|          | 0/28664 [00:00<?, ?it/s]"
      ]
     },
     "metadata": {},
     "output_type": "display_data"
    },
    {
     "data": {
      "application/vnd.jupyter.widget-view+json": {
       "model_id": "",
       "version_major": 2,
       "version_minor": 0
      },
      "text/plain": [
       "BM25S Count Tokens:   0%|          | 0/28664 [00:00<?, ?it/s]"
      ]
     },
     "metadata": {},
     "output_type": "display_data"
    },
    {
     "data": {
      "application/vnd.jupyter.widget-view+json": {
       "model_id": "",
       "version_major": 2,
       "version_minor": 0
      },
      "text/plain": [
       "BM25S Compute Scores:   0%|          | 0/28664 [00:00<?, ?it/s]"
      ]
     },
     "metadata": {},
     "output_type": "display_data"
    },
    {
     "data": {
      "application/vnd.jupyter.widget-view+json": {
       "model_id": "",
       "version_major": 2,
       "version_minor": 0
      },
      "text/plain": [
       "Split strings:   0%|          | 0/1 [00:00<?, ?it/s]"
      ]
     },
     "metadata": {},
     "output_type": "display_data"
    },
    {
     "data": {
      "application/vnd.jupyter.widget-view+json": {
       "model_id": "",
       "version_major": 2,
       "version_minor": 0
      },
      "text/plain": [
       "BM25S Retrieve:   0%|          | 0/1 [00:00<?, ?it/s]"
      ]
     },
     "metadata": {},
     "output_type": "display_data"
    },
    {
     "name": "stdout",
     "output_type": "stream",
     "text": [
      "\n",
      "--- Result 1 : c187a291-4102-40e7-8ef0-38b30665537a ---\n",
      "Similarity: 1.0000\n",
      "<div><u>Increased</u> <b>Na<sup>+</sup> reabsorption</b> in cystic fibrosis causes a more {{c1::<i>negative</i>}} <b>transepithelial potential differe\n",
      "\n",
      "--- Result 2 : b6b81223-3f02-457f-9e28-45c6a37d1fba ---\n",
      "Similarity: 0.9799\n",
      "<div><b>Cystic fibrosis</b> may present with {{c1::<b>contraction</b>::volume}}<b> </b>{{c2::<b>alkalosis</b>::pH}} </div> - Inability to reabsorb Cl<\n",
      "\n",
      "--- Result 3 : 5b5c9996-b3ff-4c6b-af95-2b05f7b3976b ---\n",
      "Similarity: 0.9749\n",
      "What is the likely <i>underlying etiology </i>in a patient with <b>bronchiectasis</b> predominantly in the <u>upper lobe</u> and sputum cultures posit\n"
     ]
    }
   ],
   "source": [
    "query = \"What causes cystic fibrosis?\"\n",
    "search_results = bm25_search_experiment(query, notes)\n",
    "for i, result in enumerate(search_results[:3]):\n",
    "    print(f\"\\n--- Result {i+1} : {result['anki_id']} ---\\nSimilarity: {result['similarity']:.4f}\\n{result['content'][:150]}\")"
   ]
  },
  {
   "cell_type": "code",
   "execution_count": 15,
   "id": "3549e820",
   "metadata": {
    "hidden": true,
    "scrolled": true
   },
   "outputs": [
    {
     "data": {
      "application/vnd.jupyter.widget-view+json": {
       "model_id": "",
       "version_major": 2,
       "version_minor": 0
      },
      "text/plain": [
       "Split strings:   0%|          | 0/28664 [00:00<?, ?it/s]"
      ]
     },
     "metadata": {},
     "output_type": "display_data"
    },
    {
     "data": {
      "application/vnd.jupyter.widget-view+json": {
       "model_id": "",
       "version_major": 2,
       "version_minor": 0
      },
      "text/plain": [
       "BM25S Count Tokens:   0%|          | 0/28664 [00:00<?, ?it/s]"
      ]
     },
     "metadata": {},
     "output_type": "display_data"
    },
    {
     "data": {
      "application/vnd.jupyter.widget-view+json": {
       "model_id": "",
       "version_major": 2,
       "version_minor": 0
      },
      "text/plain": [
       "BM25S Compute Scores:   0%|          | 0/28664 [00:00<?, ?it/s]"
      ]
     },
     "metadata": {},
     "output_type": "display_data"
    },
    {
     "data": {
      "application/vnd.jupyter.widget-view+json": {
       "model_id": "",
       "version_major": 2,
       "version_minor": 0
      },
      "text/plain": [
       "Split strings:   0%|          | 0/1 [00:00<?, ?it/s]"
      ]
     },
     "metadata": {},
     "output_type": "display_data"
    },
    {
     "data": {
      "application/vnd.jupyter.widget-view+json": {
       "model_id": "",
       "version_major": 2,
       "version_minor": 0
      },
      "text/plain": [
       "BM25S Retrieve:   0%|          | 0/1 [00:00<?, ?it/s]"
      ]
     },
     "metadata": {},
     "output_type": "display_data"
    },
    {
     "name": "stdout",
     "output_type": "stream",
     "text": [
      "\n",
      "--- Result 1 : c11b1d6d-61be-4792-85fe-d2fb5b84a422 ---\n",
      "Similarity: 1.0000\n",
      "<b>Herniation</b> is displacement of <u>brain tissue</u> due to {{c1::mass effect}} or increased {{c2::intracranial pressure}} <img src=\"35ce0a50b8a65\n",
      "\n",
      "--- Result 2 : ebdacb43-05f4-4c6d-b8c5-4ae865b1fe0d ---\n",
      "Similarity: 0.9891\n",
      "Head trauma = {{c1::CT::imaging}} Basilar skull fracture, hematomas, axonal injuries, concussion, etc<br><br><img src=\"3c325400bea8f34bb1757845d960a8f\n",
      "\n",
      "--- Result 3 : 8b038a92-af84-4096-9ccc-2b29b246e56c ---\n",
      "Similarity: 0.9872\n",
      "<b>Acoustic neuromas</b> are <u>more common</u> in {{c1::elderly patients::population}} Median age is 50 years     <img src=\"paste-4e64d9961d933e539ca\n"
     ]
    }
   ],
   "source": [
    "query = \"Brain\"\n",
    "search_results = bm25_search_experiment(query, notes)\n",
    "for i, result in enumerate(search_results[:3]):\n",
    "    print(f\"\\n--- Result {i+1} : {result['anki_id']} ---\\nSimilarity: {result['similarity']:.4f}\\n{result['content'][:150]}\")"
   ]
  },
  {
   "cell_type": "code",
   "execution_count": 16,
   "id": "ebfb17f2",
   "metadata": {
    "hidden": true
   },
   "outputs": [
    {
     "data": {
      "application/vnd.jupyter.widget-view+json": {
       "model_id": "",
       "version_major": 2,
       "version_minor": 0
      },
      "text/plain": [
       "Split strings:   0%|          | 0/28664 [00:00<?, ?it/s]"
      ]
     },
     "metadata": {},
     "output_type": "display_data"
    },
    {
     "data": {
      "application/vnd.jupyter.widget-view+json": {
       "model_id": "",
       "version_major": 2,
       "version_minor": 0
      },
      "text/plain": [
       "BM25S Count Tokens:   0%|          | 0/28664 [00:00<?, ?it/s]"
      ]
     },
     "metadata": {},
     "output_type": "display_data"
    },
    {
     "data": {
      "application/vnd.jupyter.widget-view+json": {
       "model_id": "",
       "version_major": 2,
       "version_minor": 0
      },
      "text/plain": [
       "BM25S Compute Scores:   0%|          | 0/28664 [00:00<?, ?it/s]"
      ]
     },
     "metadata": {},
     "output_type": "display_data"
    },
    {
     "data": {
      "application/vnd.jupyter.widget-view+json": {
       "model_id": "",
       "version_major": 2,
       "version_minor": 0
      },
      "text/plain": [
       "Split strings:   0%|          | 0/1 [00:00<?, ?it/s]"
      ]
     },
     "metadata": {},
     "output_type": "display_data"
    },
    {
     "data": {
      "application/vnd.jupyter.widget-view+json": {
       "model_id": "",
       "version_major": 2,
       "version_minor": 0
      },
      "text/plain": [
       "BM25S Retrieve:   0%|          | 0/1 [00:00<?, ?it/s]"
      ]
     },
     "metadata": {},
     "output_type": "display_data"
    },
    {
     "name": "stdout",
     "output_type": "stream",
     "text": [
      "\n",
      "--- Result 1 : 6ff38b1a-9d48-4a08-b5c5-e2b2874e5085 ---\n",
      "Similarity: 1.0000\n",
      "- <b>Papillary muscle rupture</b> will present with findings of {{c1::left}} heart failure<br><br>\n",
      "\n",
      "- <b>Interventricular septum rupture </b>will pres\n",
      "\n",
      "--- Result 2 : 8b42ea92-75cb-4bee-82d4-fcf00263d4cf ---\n",
      "Similarity: 0.9662\n",
      "What is the <u>next step in diagnosis</u> for a patient with new-onset <b>epigastric pain,</b> <b>nausea</b>, <b>hypotension,</b> <b>bradycardia </b>a\n",
      "\n",
      "--- Result 3 : e403c234-ce6e-4dba-97e6-c9db5e5ffffb ---\n",
      "Similarity: 0.9186\n",
      "<div>One complication that may occur during the <b>first 24 hours</b> post-MI is {{c1::arrhythmia}}, which is an <b>important cause of death</b> befor\n"
     ]
    }
   ],
   "source": [
    "# Let's try a more complex, longer query about a different medical topic\n",
    "query = \"\"\"\n",
    "Explain the pathophysiology of myocardial infarction in detail, including the role of atherosclerosis, \n",
    "thrombosis, and the cascade of events that leads to myocardial cell death. Also include information about \n",
    "risk factors such as hypertension, diabetes, smoking, and hyperlipidemia. What are the typical ECG changes \n",
    "seen in different types of myocardial infarction (STEMI vs NSTEMI)? How do troponin levels change over time \n",
    "after an MI? What are the complications of myocardial infarction including arrhythmias, heart failure, \n",
    "cardiogenic shock, and mechanical complications like papillary muscle rupture? Finally, discuss the \n",
    "management strategies including primary PCI, thrombolytics, antiplatelet therapy, beta-blockers, ACE \n",
    "inhibitors, and statins.\n",
    "\"\"\"\n",
    "\n",
    "search_results = bm25_search_experiment(query, notes, top_k=5)\n",
    "for i, result in enumerate(search_results[:3]):\n",
    "    print(f\"\\n--- Result {i+1} : {result['anki_id']} ---\\nSimilarity: {result['similarity']:.4f}\\n{result['content'][:150]}\")"
   ]
  },
  {
   "cell_type": "code",
   "execution_count": 17,
   "id": "53ac6cd7",
   "metadata": {
    "hidden": true
   },
   "outputs": [],
   "source": [
    "instructor_readme = httpx.get('https://raw.githubusercontent.com/567-labs/instructor/refs/heads/main/README.md').text"
   ]
  },
  {
   "cell_type": "code",
   "execution_count": 18,
   "id": "c1b3391e",
   "metadata": {
    "hidden": true,
    "scrolled": true
   },
   "outputs": [],
   "source": [
    "# llm_rerank(query, search_results)"
   ]
  },
  {
   "cell_type": "code",
   "execution_count": 19,
   "id": "c467d4cd",
   "metadata": {
    "hidden": true
   },
   "outputs": [],
   "source": [
    "import instructor\n",
    "from pydantic import BaseModel, Field\n",
    "import google.generativeai as genai\n",
    "from concurrent.futures import ThreadPoolExecutor\n",
    "\n",
    "def llm_rerank(query, notes, limit=None, model_name=\"gemini-1.5-flash\"):\n",
    "    \"\"\"Use an LLM to rerank notes based on relevance to the query.\"\"\"\n",
    "    class RelevanceScore(BaseModel):\n",
    "        score: float = Field(description=\"Relevance score from 0-1\")\n",
    "    \n",
    "    # Initialize the model\n",
    "    model = genai.GenerativeModel(model_name)\n",
    "    \n",
    "    # Based on the instructor README, for Gemini models we should use from_gemini\n",
    "    client = instructor.from_gemini(\n",
    "        client=model,\n",
    "        mode=instructor.Mode.GEMINI_JSON  # Use GEMINI_JSON mode for Gemini models\n",
    "    )\n",
    "    \n",
    "    def process_note(note):\n",
    "        # Extract content from the note\n",
    "        text = note['content']\n",
    "        resp = client.chat.completions.create(\n",
    "            response_model=RelevanceScore,\n",
    "            messages=[\n",
    "                {\"role\": \"user\", \"content\": f\"Query: {query}\\n\\nDocument: {text}\\n\\nRate how relevant this document is to the query from 0.0 (not relevant) to 1.0 (highly relevant). Just return the score.\"}\n",
    "            ]\n",
    "        )\n",
    "        note_copy = note.copy()\n",
    "        note_copy[\"relevance_score\"] = resp.score\n",
    "        return note_copy\n",
    "    \n",
    "    # Parallel processing function\n",
    "    def parallel(func, items, max_workers=20):\n",
    "        with ThreadPoolExecutor(max_workers=max_workers) as executor:\n",
    "            results = list(executor.map(func, items))\n",
    "        return results\n",
    "    \n",
    "    results = [r for r in parallel(process_note, notes) if r is not None]\n",
    "    results.sort(key=lambda x: x.get(\"relevance_score\", 0), reverse=True)\n",
    "    \n",
    "    if limit: \n",
    "        return results[:limit]\n",
    "    return results"
   ]
  },
  {
   "cell_type": "markdown",
   "id": "b9862101-fb83-4b0d-9a44-ca07365414e3",
   "metadata": {},
   "source": [
    "### Documents"
   ]
  },
  {
   "cell_type": "code",
   "execution_count": 20,
   "id": "69db97c9-3260-47f2-a23d-627cb43e93e5",
   "metadata": {},
   "outputs": [],
   "source": [
    "_file_qrys = [\n",
    "    'https://app.ankihub.net/ai/file-search/input-file/ai-files/193108/8feac2bc-f598-4b8e-a8ad-2d6684848e03.pdf/',\n",
    "    'https://app.ankihub.net/ai/file-search/input-file/ai-files/83793/4f171ac2-3e61-4ab4-a531-64c9455505c7.pdf/',\n",
    "    'https://app.ankihub.net/ai/file-search/input-file/ai-files/83793/e4984b18-e7cb-48c3-a03e-3cd5cb36bd96.pdf/',\n",
    "    'https://app.ankihub.net/ai/file-search/input-file/ai-files/83793/29627a54-579d-4ced-978d-9b6f4b5c59af.pdf/',\n",
    "    'https://app.ankihub.net/ai/file-search/input-file/ai-files/83793/7a4d6de2-280a-4418-b6a8-55dadcb4fc72.pdf/',\n",
    "    'https://drive.google.com/file/d/1xLJik0uCLOzS59oEUtMlUf36z0evAEVU/view?usp=sharing']"
   ]
  },
  {
   "cell_type": "code",
   "execution_count": 21,
   "id": "94260503",
   "metadata": {},
   "outputs": [],
   "source": [
    "from search_lib.pre_search import process_pdf"
   ]
  },
  {
   "cell_type": "code",
   "execution_count": 22,
   "id": "3fd25fc8",
   "metadata": {
    "scrolled": true
   },
   "outputs": [],
   "source": [
    "from IPython.display import Markdown\n",
    "# Markdown(process_pdf(_file_qrys[0]))"
   ]
  },
  {
   "cell_type": "markdown",
   "id": "f74e2f0a-c651-437c-beea-dc11510e5ba7",
   "metadata": {
    "heading_collapsed": true,
    "jp-MarkdownHeadingCollapsed": true
   },
   "source": [
    "## Targetted Metrics"
   ]
  },
  {
   "cell_type": "markdown",
   "id": "c60858ed",
   "metadata": {
    "hidden": true
   },
   "source": [
    "Once you feel like you have a good idea of how this works on different types of queries, we can calculate metrics using the annotated dataset against particular queries, or all of them.\n",
    "\n",
    "This allows you to keep trying to iterate on known problems quickly without re-running the full experiments."
   ]
  },
  {
   "cell_type": "code",
   "execution_count": 23,
   "id": "dec11fc1",
   "metadata": {
    "hidden": true
   },
   "outputs": [],
   "source": [
    "df = ds.as_dataframe()\n",
    "def categorize_query(query):\n",
    "    if 'http' in query.lower(): return \"URL\"\n",
    "    word_count = len(query.split())\n",
    "    if word_count < 5: return \"keyword\"\n",
    "    return \"mid-length text\"\n",
    "df['query_type'] = df['input'].apply(lambda x: categorize_query(x['query']))"
   ]
  },
  {
   "cell_type": "code",
   "execution_count": 24,
   "id": "620e913c",
   "metadata": {
    "hidden": true
   },
   "outputs": [
    {
     "data": {
      "application/vnd.jupyter.widget-view+json": {
       "model_id": "",
       "version_major": 2,
       "version_minor": 0
      },
      "text/plain": [
       "Split strings:   0%|          | 0/28664 [00:00<?, ?it/s]"
      ]
     },
     "metadata": {},
     "output_type": "display_data"
    },
    {
     "data": {
      "application/vnd.jupyter.widget-view+json": {
       "model_id": "",
       "version_major": 2,
       "version_minor": 0
      },
      "text/plain": [
       "BM25S Count Tokens:   0%|          | 0/28664 [00:00<?, ?it/s]"
      ]
     },
     "metadata": {},
     "output_type": "display_data"
    },
    {
     "data": {
      "application/vnd.jupyter.widget-view+json": {
       "model_id": "",
       "version_major": 2,
       "version_minor": 0
      },
      "text/plain": [
       "BM25S Compute Scores:   0%|          | 0/28664 [00:00<?, ?it/s]"
      ]
     },
     "metadata": {},
     "output_type": "display_data"
    },
    {
     "data": {
      "application/vnd.jupyter.widget-view+json": {
       "model_id": "",
       "version_major": 2,
       "version_minor": 0
      },
      "text/plain": [
       "Split strings:   0%|          | 0/1 [00:00<?, ?it/s]"
      ]
     },
     "metadata": {},
     "output_type": "display_data"
    },
    {
     "data": {
      "application/vnd.jupyter.widget-view+json": {
       "model_id": "",
       "version_major": 2,
       "version_minor": 0
      },
      "text/plain": [
       "BM25S Retrieve:   0%|          | 0/1 [00:00<?, ?it/s]"
      ]
     },
     "metadata": {},
     "output_type": "display_data"
    },
    {
     "name": "stdout",
     "output_type": "stream",
     "text": [
      "Query: 'B. Cysticfibrosis\n",
      "CF is the most common lethal genetic disease in Caucasians of Northern European an...'\n",
      "nRBP score: 0.6234\n",
      "R-Precision score: 0.5000\n",
      "Average Precision score: 0.3944\n"
     ]
    }
   ],
   "source": [
    "query = df.input.iloc[1]['query']\n",
    "expected_output = df.output.iloc[1]\n",
    "search_results = bm25_search_experiment(query, notes)\n",
    "\n",
    "formatted_output = {\"documents\": search_results}\n",
    "\n",
    "nrbp_score = nrbp_evaluator(expected_output, formatted_output)\n",
    "r_precision = r_precision_evaluator(expected_output, formatted_output)\n",
    "avg_precision = average_precision_evaluator(expected_output, formatted_output)\n",
    "\n",
    "print(f\"Query: '{query[:100]}...'\")\n",
    "print(f\"nRBP score: {nrbp_score:.4f}\")\n",
    "print(f\"R-Precision score: {r_precision:.4f}\")\n",
    "print(f\"Average Precision score: {avg_precision:.4f}\")"
   ]
  },
  {
   "cell_type": "markdown",
   "id": "1b346787",
   "metadata": {
    "hidden": true
   },
   "source": [
    "When we're ready at the end and we feel good that this is an improvement, then we can run the full thing as a phoenix experiment to get all the metrics and see how it does."
   ]
  },
  {
   "cell_type": "markdown",
   "id": "30528421",
   "metadata": {},
   "source": [
    "## Improving"
   ]
  },
  {
   "cell_type": "code",
   "execution_count": 25,
   "id": "a3b82802",
   "metadata": {},
   "outputs": [],
   "source": [
    "exp = client.get_experiment(experiment_id='RXhwZXJpbWVudDo1MzA=')"
   ]
  },
  {
   "cell_type": "code",
   "execution_count": 26,
   "id": "3ba4985b",
   "metadata": {},
   "outputs": [],
   "source": [
    "def format_cohere_results(cohere_response, original_results):\n",
    "    content_to_result = {r[\"content\"]: r for r in original_results}\n",
    "\n",
    "    formatted_results = []\n",
    "    for item in cohere_response.results:\n",
    "        original = content_to_result.get(item.document.text)\n",
    "        if original:\n",
    "            # Create a new dict with the original data but updated similarity\n",
    "            formatted_results.append({\n",
    "                \"anki_id\": original[\"anki_id\"],\n",
    "                \"content\": original[\"content\"],\n",
    "                \"tags\": original.get(\"tags\", []),\n",
    "                \"similarity\": item.relevance_score  # Use the reranked score\n",
    "            })\n",
    "    \n",
    "    return formatted_results"
   ]
  },
  {
   "cell_type": "code",
   "execution_count": 27,
   "id": "95ffd821",
   "metadata": {},
   "outputs": [],
   "source": [
    "top_k = 200\n",
    "def search_task(input):\n",
    "    query = input.get('query', '')\n",
    "    print(query)\n",
    "    if query.startswith('http'):\n",
    "        query = process_pdf(query)\n",
    "    if len(query.split(' ')) > 6:\n",
    "        queries = decompose_query(query).queries\n",
    "    else:\n",
    "        queries = [f\"{query} {query} {keyword_expansion(query)}\"]\n",
    "#         print(f\"{queries=}\")\n",
    "    _bm25_search_experiment = partial(bm25_search_experiment, notes=notes, top_k=top_k//2)\n",
    "    results = parallel(_bm25_search_experiment, queries)\n",
    "# Flatten results and deduplicate based on anki_id\n",
    "    flattened_results = []\n",
    "    seen_ids = set()\n",
    "    for sublist in results:\n",
    "        for item in sublist:\n",
    "            if item[\"anki_id\"] not in seen_ids:\n",
    "                seen_ids.add(item[\"anki_id\"])\n",
    "                # Ensure we have a standardized structure\n",
    "                flattened_results.append({\n",
    "                    \"anki_id\": item[\"anki_id\"],\n",
    "                    \"content\": item[\"content\"],\n",
    "                    \"tags\": item.get(\"tags\", []),\n",
    "                    \"similarity\": item.get(\"similarity\", 0)\n",
    "                })\n",
    "    reranked_response = cohere_rerank(query, flattened_results)\n",
    "    results = format_cohere_results(reranked_response, flattened_results)\n",
    "    return {\n",
    "        'documents': results,\n",
    "        'metadata': {\n",
    "            'scoring_scale': '',\n",
    "            'top_k': top_k,\n",
    "        }\n",
    "    }\n",
    "\n",
    "# res = search_task({'query': \"The heart has four chambers: right atrium, right ventricle, left atrium, and left ventricle. Blood flows through these chambers in a specific pattern. The right atrium receives deoxygenated blood from the body via the superior and inferior vena cava. This blood then flows through the tricuspid valve into the right ventricle, which pumps it to the lungs through the pulmonary artery.\"})"
   ]
  },
  {
   "cell_type": "code",
   "execution_count": 28,
   "id": "c1eff51f",
   "metadata": {},
   "outputs": [],
   "source": [
    "bad_performing_ids = [\n",
    "    'RGF0YXNldEV4YW1wbGU6MTgwMw==', 'RGF0YXNldEV4YW1wbGU6MTgwMg==', 'RGF0YXNldEV4YW1wbGU6MTY4NQ==', 'RGF0YXNldEV4YW1wbGU6ODQ=', 'RGF0YXNldEV4YW1wbGU6ODI=', 'RGF0YXNldEV4YW1wbGU6MTc5Nw==', 'RGF0YXNldEV4YW1wbGU6MTc5Ng==',]"
   ]
  },
  {
   "cell_type": "code",
   "execution_count": null,
   "id": "84ff77be",
   "metadata": {},
   "outputs": [],
   "source": []
  },
  {
   "cell_type": "code",
   "execution_count": 33,
   "id": "a300aedd",
   "metadata": {},
   "outputs": [
    {
     "name": "stdout",
     "output_type": "stream",
     "text": [
      "propofol\n",
      "queries=['propofol propofol intravenous anesthetic, sedative-hypnotic, general anesthesia, induction agent, ICU sedation, Diprivan']\n",
      "Coenzyme Q\n",
      "queries=['Coenzyme Q Coenzyme Q Coenzyme Q CoQ10 Ubiquinone Mitochondrial Coenzyme Q10 Antioxidant Vitamin Q10 Bioenergetics Mitochondrial respiratory chain ATP production Energy metabolism Lipid-soluble antioxidant Biochemical reactions Oxidative phosphorylation Electron transport chain Mitochondrial function Mitochondrial diseases Mitochondrial disorders Mitochondrial myopathy Mitochondrial encephalopathy Lactic acidosis Stroke-like episodes MELAS Syndrome Kearns-Sayre Syndrome Leigh Syndrome Mitochondrial DNA']\n",
      "downstream PDH\n",
      "queries=['downstream PDH downstream PDH downstream pyruvate dehydrogenase, PDH complex, pyruvate dehydrogenase complex, pyruvate dehydrogenase enzyme, pyruvate dehydrogenase deficiency, pyruvate dehydrogenase kinase, pyruvate dehydrogenase phosphatase']\n",
      "Iga Vasculitis\n",
      "queries=['Iga Vasculitis Iga Vasculitis IgA Vasculitis Henoch-Schönlein Purpura HSP Immunoglobulin A Vasculitis Cutaneous leukocytoclastic angiitis Purpura rheumatica Anaphylactoid purpura Schoenlein-Henoch purpura Hemorrhagic nephritis Purpura anaphylactoid Purpura rheumatic Henoch-Schönlein purpura IgA-mediated vasculitis IgA nephropathy IgA vasculitides']\n",
      "Biochemestry lipids\n",
      "queries=['Biochemestry lipids Biochemestry lipids Biochemistry lipids lipidology fatty acids triglycerides cholesterol phospholipids sphingolipids glycolipids lipid metabolism lipid bilayer lipid droplets lipid rafts lipoproteins lipogenesis lipolysis lipotoxicity lipidomics lipid peroxidation lipoprotein lipase lipids in cell membrane lipids in brain lipids in adipose tissue lipids in blood lipids in diet lipids in metabolism lipids in signaling lipids in energy storage lipids in hormone synthesis']\n",
      "STATIN INDUCED MYOPATHY\n",
      "queries=['STATIN INDUCED MYOPATHY STATIN INDUCED MYOPATHY Statin\\nInduced\\nMyopathy\\nHMG-CoA reductase inhibitor\\nMuscle pain\\nMuscle weakness\\nRhabdomyolysis\\nCreatine kinase\\nMyalgia\\nMyositis\\nStatins\\nMuscular toxicity\\nSkeletal muscle injury']\n"
     ]
    },
    {
     "data": {
      "text/html": [
       "<div>\n",
       "<style scoped>\n",
       "    .dataframe tbody tr th:only-of-type {\n",
       "        vertical-align: middle;\n",
       "    }\n",
       "\n",
       "    .dataframe tbody tr th {\n",
       "        vertical-align: top;\n",
       "    }\n",
       "\n",
       "    .dataframe thead th {\n",
       "        text-align: right;\n",
       "    }\n",
       "</style>\n",
       "<table border=\"1\" class=\"dataframe\">\n",
       "  <thead>\n",
       "    <tr style=\"text-align: right;\">\n",
       "      <th></th>\n",
       "      <th>idx</th>\n",
       "      <th>query</th>\n",
       "      <th>nrbp_score</th>\n",
       "      <th>r_precision</th>\n",
       "      <th>avg_precision</th>\n",
       "    </tr>\n",
       "  </thead>\n",
       "  <tbody>\n",
       "    <tr>\n",
       "      <th>0</th>\n",
       "      <td>RGF0YXNldEV4YW1wbGU6Nzk=</td>\n",
       "      <td>propofol</td>\n",
       "      <td>1.000000</td>\n",
       "      <td>1.000000</td>\n",
       "      <td>1.000000</td>\n",
       "    </tr>\n",
       "    <tr>\n",
       "      <th>1</th>\n",
       "      <td>RGF0YXNldEV4YW1wbGU6ODE=</td>\n",
       "      <td>Coenzyme Q</td>\n",
       "      <td>1.000000</td>\n",
       "      <td>1.000000</td>\n",
       "      <td>1.000000</td>\n",
       "    </tr>\n",
       "    <tr>\n",
       "      <th>2</th>\n",
       "      <td>RGF0YXNldEV4YW1wbGU6ODI=</td>\n",
       "      <td>downstream PDH</td>\n",
       "      <td>0.140456</td>\n",
       "      <td>0.083333</td>\n",
       "      <td>0.147611</td>\n",
       "    </tr>\n",
       "    <tr>\n",
       "      <th>3</th>\n",
       "      <td>RGF0YXNldEV4YW1wbGU6ODM=</td>\n",
       "      <td>Iga Vasculitis</td>\n",
       "      <td>0.951680</td>\n",
       "      <td>0.785714</td>\n",
       "      <td>0.817216</td>\n",
       "    </tr>\n",
       "    <tr>\n",
       "      <th>4</th>\n",
       "      <td>RGF0YXNldEV4YW1wbGU6ODQ=</td>\n",
       "      <td>Biochemestry lipids</td>\n",
       "      <td>0.944207</td>\n",
       "      <td>0.433333</td>\n",
       "      <td>0.345386</td>\n",
       "    </tr>\n",
       "    <tr>\n",
       "      <th>5</th>\n",
       "      <td>RGF0YXNldEV4YW1wbGU6MTgwNA==</td>\n",
       "      <td>STATIN INDUCED MYOPATHY</td>\n",
       "      <td>0.609710</td>\n",
       "      <td>0.600000</td>\n",
       "      <td>0.415833</td>\n",
       "    </tr>\n",
       "  </tbody>\n",
       "</table>\n",
       "</div>"
      ],
      "text/plain": [
       "                            idx                    query  nrbp_score  \\\n",
       "0      RGF0YXNldEV4YW1wbGU6Nzk=                 propofol    1.000000   \n",
       "1      RGF0YXNldEV4YW1wbGU6ODE=               Coenzyme Q    1.000000   \n",
       "2      RGF0YXNldEV4YW1wbGU6ODI=           downstream PDH    0.140456   \n",
       "3      RGF0YXNldEV4YW1wbGU6ODM=           Iga Vasculitis    0.951680   \n",
       "4      RGF0YXNldEV4YW1wbGU6ODQ=      Biochemestry lipids    0.944207   \n",
       "5  RGF0YXNldEV4YW1wbGU6MTgwNA==  STATIN INDUCED MYOPATHY    0.609710   \n",
       "\n",
       "   r_precision  avg_precision  \n",
       "0     1.000000       1.000000  \n",
       "1     1.000000       1.000000  \n",
       "2     0.083333       0.147611  \n",
       "3     0.785714       0.817216  \n",
       "4     0.433333       0.345386  \n",
       "5     0.600000       0.415833  "
      ]
     },
     "execution_count": 33,
     "metadata": {},
     "output_type": "execute_result"
    }
   ],
   "source": [
    "# First, get the query and expected output\n",
    "# results = []\n",
    "# for idx in df[df.query_type=='keyword'].index:\n",
    "#     _row = dict(df[df.index == idx])\n",
    "#     query = _row['input'][idx]['query']\n",
    "#     expected_output = _row['output'][idx]\n",
    "#     res = search_task({'query': query})\n",
    "#     results.append({\n",
    "#         'idx': idx,\n",
    "#         'query': query[:100],\n",
    "#         'nrbp_score': nrbp_evaluator(expected_output, res),\n",
    "#         'r_precision': r_precision_evaluator(expected_output, res),\n",
    "#         'avg_precision': average_precision_evaluator(expected_output, res)})\n",
    "# pd.DataFrame(results)"
   ]
  },
  {
   "cell_type": "code",
   "execution_count": null,
   "id": "32b6021d",
   "metadata": {},
   "outputs": [],
   "source": [
    "keyword_expansion('downstream PDH')"
   ]
  },
  {
   "cell_type": "markdown",
   "id": "aea09470-ff07-47f3-9360-0d491bcfc5e0",
   "metadata": {},
   "source": [
    "# Run Experiment"
   ]
  },
  {
   "cell_type": "code",
   "execution_count": null,
   "id": "3a938983",
   "metadata": {},
   "outputs": [],
   "source": [
    "queries = decompose_query(\"The heart has four chambers: right atrium, right ventricle, left atrium, and left ventricle. Blood flows through these chambers in a specific pattern. The right atrium receives deoxygenated blood from the body via the superior and inferior vena cava. This blood then flows through the tricuspid valve into the right ventricle, which pumps it to the lungs through the pulmonary artery.\").queries"
   ]
  },
  {
   "cell_type": "code",
   "execution_count": null,
   "id": "1e66b6a1",
   "metadata": {},
   "outputs": [],
   "source": [
    "# _bm25_search_experiment = partial(bm25_search_experiment, notes=notes, top_k=10)\n",
    "# results = parallel(_bm25_search_experiment, queries)"
   ]
  },
  {
   "cell_type": "code",
   "execution_count": null,
   "id": "0edf65b6",
   "metadata": {},
   "outputs": [],
   "source": [
    "top_k = 200\n",
    "# def search_task(input):\n",
    "#     query = input.get('query', '')\n",
    "#     if query.startswith('http'):\n",
    "#         query = process_pdf(query)\n",
    "#     queries = decompose_query(query).queries\n",
    "#     _bm25_search_experiment = partial(bm25_search_experiment, notes=notes, top_k=top_k//2)\n",
    "#     results = parallel(_bm25_search_experiment, queries)\n",
    "#     # Flatten results and deduplicate based on anki_id\n",
    "#     flattened_results = []\n",
    "#     seen_ids = set()\n",
    "#     for sublist in results:\n",
    "#         for item in sublist:\n",
    "#             if item[\"anki_id\"] not in seen_ids:\n",
    "#                 seen_ids.add(item[\"anki_id\"])\n",
    "#                 flattened_results.append(item)\n",
    "                \n",
    "# #     print(len(flattened_results))\n",
    "# #     results = llm_rerank(query, results)\n",
    "#     return {\n",
    "#         'documents': results,\n",
    "#         'metadata': {\n",
    "#             'scoring_scale': '',\n",
    "#             'top_k': top_k,\n",
    "#         }\n",
    "#     }\n",
    "# res = search_task({'query': \"The heart has four chambers: right atrium, right ventricle, left atrium, and left ventricle. Blood flows through these chambers in a specific pattern. The right atrium receives deoxygenated blood from the body via the superior and inferior vena cava. This blood then flows through the tricuspid valve into the right ventricle, which pumps it to the lungs through the pulmonary artery.\"})"
   ]
  },
  {
   "cell_type": "code",
   "execution_count": null,
   "id": "9ad7a0aa",
   "metadata": {},
   "outputs": [],
   "source": [
    "\n",
    "res = search_task({'query': _file_qrys[0]})"
   ]
  },
  {
   "cell_type": "code",
   "execution_count": 34,
   "id": "b64856cc",
   "metadata": {},
   "outputs": [],
   "source": [
    "def run_bm25_experiment(dataset, # Phoenix dataset to use\n",
    "                        top_k=200, # Number of top results to return\n",
    "                       ): # The experiment results\n",
    "    \"\"\"Run a BM25 search experiment on a Phoenix dataset with multiple evaluation metrics\"\"\"\n",
    "\n",
    "    evaluators = {\n",
    "        \"nrbp\": nrbp_evaluator,\n",
    "        \"r_precision\": r_precision_evaluator,\n",
    "        \"average_precision_at_200\": average_precision_evaluator\n",
    "    }\n",
    "    \n",
    "    return run_experiment(\n",
    "        dataset=dataset,\n",
    "        task=search_task,\n",
    "        evaluators=evaluators,\n",
    "        experiment_name=f\"BM25 (top_{top_k}) - decomposition + rerank\",\n",
    "        experiment_description=f\"Testing a full search task MVP with basic decomp/rerank\",\n",
    "        dry_run=False,  # Set to True for testing\n",
    "        concurrency=1,\n",
    "        timeout=900,\n",
    "        print_summary=True)"
   ]
  },
  {
   "cell_type": "code",
   "execution_count": 35,
   "id": "df802db9",
   "metadata": {},
   "outputs": [
    {
     "name": "stdout",
     "output_type": "stream",
     "text": [
      "🧪 Experiment started.\n",
      "📺 View dataset experiments: https://phx.ankihub.net/datasets/RGF0YXNldDoxOA==/experiments\n",
      "🔗 View this experiment: https://phx.ankihub.net/datasets/RGF0YXNldDoxOA==/compare?experimentId=RXhwZXJpbWVudDo1MzE=\n"
     ]
    },
    {
     "data": {
      "application/vnd.jupyter.widget-view+json": {
       "model_id": "423a5d4aafe947d1938c393cd6722a4f",
       "version_major": 2,
       "version_minor": 0
      },
      "text/plain": [
       "running tasks |          | 0/20 (0.0%) | ⏳ 00:00<? | ?it/s"
      ]
     },
     "metadata": {},
     "output_type": "display_data"
    },
    {
     "name": "stdout",
     "output_type": "stream",
     "text": [
      "propofol\n",
      "queries=['propofol propofol propofol anesthesia sedative hypnotic intravenous drug general anesthesia GABA receptor ICU sedation induction maintenance drug-induced sedation endoscopy sedation anesthesia induction anesthesia maintenance anesthesia drug anesthesia sedation drug anesthesia medication diprivan diprivan anesthesia diprivan sedation diprivan drug diprivan medication diprivan anesthesia drug diprivan sedative diprivan hypnotic diprivan general anesthesia diprivan GABA receptor diprivan ICU sedation diprivan induction dipr']\n"
     ]
    },
    {
     "name": "stderr",
     "output_type": "stream",
     "text": [
      "/Users/iflath/.venv/lib/python3.12/site-packages/phoenix/utilities/client.py:40: UserWarning: The Phoenix server has an unknown version and may have compatibility issues.\n",
      "  warnings.warn(\n"
     ]
    },
    {
     "name": "stdout",
     "output_type": "stream",
     "text": [
      "Retries exhausted after 1 attempts: Server error '502 Bad Gateway' for url 'https://phx.ankihub.net/v1/experiments/RXhwZXJpbWVudDo1MzE=/runs'\n",
      "For more information check: https://developer.mozilla.org/en-US/docs/Web/HTTP/Status/502\n",
      "B. Cysticfibrosis\n",
      "CF is the most common lethal genetic disease in Caucasians of Northern European ancestry and has a prevalence of ∼1:3,300 births in the United States. CF is an autosomal-recessive disorder caused by mutations to the gene for the CF transmembrane conductance regulator (CFTR) protein that functions as a chloride channel on epithelium in the pancreas, lungs, testes, and sweat glands. Defective CFTR results in decreased secretion of chloride and increased uptake of sodium and water. In the pancreas, the depletion of water on the cell surface results in thickened mucus that clogs the pancreatic ducts, preventing pancreatic enzymes from reaching the intestine, thereby leading to pancreatic insufficiency. Treatment includes replacement of these enzymes and supplementation with fat-soluble vitamins. (Note: CF also causes chronic lung infections with progressive pulmonary disease and male infertility.)\n",
      "Coenzyme Q\n",
      "queries=['Coenzyme Q Coenzyme Q Coenzyme Q CoQ10 Ubiquinone Mitochondrial energy carrier Antioxidant Vitamin-like compound Biochemical compound Oxidative phosphorylation Electron transport chain Mitochondrial function Cellular respiration Lipid-soluble antioxidant Lipid-soluble vitamin Mitochondrial disorders Mitochondrial myopathy Mitochondrial encephalopathy Mitochondrial cardiomyopathy Mitochondrial disease CoQ deficiency CoQ biosynthesis CoQ supplementation CoQ synthesis CoQ metabolism CoQ function CoQ structure Co']\n",
      "downstream PDH\n",
      "queries=['downstream PDH downstream PDH downstream pyruvate dehydrogenase, PDH complex, pyruvate dehydrogenase complex, pyruvate dehydrogenase enzyme, PDH deficiency, pyruvate dehydrogenase deficiency, pyruvate dehydrogenase kinase, pyruvate dehydrogenase phosphatase']\n",
      "Iga Vasculitis\n",
      "queries=['Iga Vasculitis Iga Vasculitis IgA Vasculitis Henoch-Schönlein Purpura HSP Immunoglobulin A Vasculitis Cutaneous leukocytoclastic angiitis Purpura rheumatica Anaphylactoid purpura Schoenlein-Henoch purpura Hemorrhagic nephritis Purpura anaphylactoid Purpura rheumatic Henoch-Schönlein purpura IgA nephropathy IgA vasculitides IgA vasculitic syndrome']\n",
      "Biochemestry lipids\n",
      "queries=['Biochemestry lipids Biochemestry lipids Biochemistry lipids lipid metabolism fatty acids triglycerides cholesterol lipoproteins phospholipids glycerolipids sphingolipids eicosanoids lipid bilayer lipid droplets lipid rafts lipidomics lipogenesis lipolysis lipotoxicity lipoprotein lipase lipids in cell membrane lipids in signaling pathways lipids in energy storage lipids in hormone synthesis lipid peroxidation lipids in brain function lipids in skin barrier function lipid solubility lipid emuls']\n"
     ]
    },
    {
     "name": "stderr",
     "output_type": "stream",
     "text": [
      "Transient error Bad Gateway encountered while exporting span batch, retrying in 1s.\n"
     ]
    },
    {
     "name": "stdout",
     "output_type": "stream",
     "text": [
      "Explain the clinical symptoms and signs of heart failure and describe the NYHA functional classification of severity.\n",
      "Heart failure\n",
      "• A patient always will have low cardiac output\n",
      "Pathophysiology \n",
      "• Failing chambers  increased pressures\n",
      "1.  Left ventricular failure \n",
      "o   Leads to a rise in left ventricle pressure\n",
      "o   LV systolic pressure: depends on contractility (can be low)\n",
      "o   LV end diastolic pressure: always high in left heart failure\n",
      "o   In systolic HF: less blood is pumped out  more is left behind  more pressure\n",
      "o   Diastolic HF: stiff ventricle  high pressure \n",
      "o   When LVEDP rises it closes mitral valve earlier so LA pressure increases\n",
      "o   Increased LA pressure can lead to increased pulmonary capillary pressure which causes dyspnea (shortness of breath) and pulmonary edema\n",
      "o   Increased pulmonary capillary pressure  increased pulmonary artery pressure  increased right ventricle pressure  increased right atrium pressure \n",
      "o   Right atrial pressure = central venous pressure\n",
      "o   Means that there can be high pressure in the venous system once the right atrium is affected  elevated jugular venous pressure (neck veins), can also lead to capillary leaks which causes pitting edema\n",
      "• Heart failure activates two systems:\n",
      "1.  Sympathetic NS\n",
      "2.  RAAS\n",
      "• Both systems will increase peripheral vascular resistance by vasoconstriction, and increase retention of sodium/water in kidneys\n",
      "Total peripheral resistance \n",
      "• Cardiac output falls  vasoconstriction\n",
      "• Angiotensin II and sympathetic NS are good vasoconstrictions \n",
      "• TPR always high for heart failure \n",
      "• BP often high but it may be low because it depends on the combined changes CO and TPR (BP = CO x TPR)\n",
      "Sodium/water retention \n",
      "• Effective circulating volume: volume of plasma that is effectively perfusing tissues\n",
      " \n",
      "Signs and symptoms \n",
      "• General physiological effects of lying flat (supine):\n",
      ": increased venous return (flow of blood back to heart from veins)\n",
      ": happens because when heart and legs are parallel instead of legs being below the heart, causes more blood to roll back towards the heart\n",
      ": redistribution of blood volume from lower extremities and splanchnic beds to lungs \n",
      ": people with impaired ventricles cannot tolerate these changes of blood volume so it worsens their pulmonary congestion and breathing\n",
      "• Left heart failure:\n",
      ": high pressures in LV and LA\n",
      ": leads to dyspnoea especially on exertion \n",
      ": paroxysmal nocturnal dyspnoea (suddenly wake up in middle of night short of breath)\n",
      ": difference between orthopnoea and paroxysmal: PND is more about blood from the limbs (increased preload), orthopnoea is more about just the fluid already in the lungs\n",
      ": orthopnoea (cant breath lying flat)\n",
      "• Right heart failure:\n",
      ": high pressures in RV and RA\n",
      ": increased jugular venous pressure (can cause ears to look like they are bouncing because it is so elevated)\n",
      ": lower extremity edema (blood is pushed out of the capillaries of body and gravity pulls it down to legs)\n",
      ": central cyanosis: oxygen saturation is low\n",
      ": peripheral cyanosis: less blood supply \n",
      ": liver congestion [rarely can cause cirrhosis (healthy liver tissue replaced by scar tissue)]\n",
      ": hepatosplenomegaly: where the liver and spleen are enlarged\n",
      ": ascites: where fluid builds up in the abdomen  percussion doesn’t work at first but fluid moves when they sit up and shift over so percussion begins to work again\n",
      ": abdominal distention\n",
      "Low flow signs/symptoms (“forward failure”) (rare)\n",
      "• Loss of appetite (bc poor perfusion of the gut)\n",
      "• Weight loss\n",
      "• Confusion (poor perfusion of the brain)\n",
      "• Cool extremities (blood not pumped to finger or toes)\n",
      "• Narrow pulse pressure (difference between diastolic and systolic blood pressure becomes small)\n",
      "• Seen only with very low cardiac output\n",
      "• Not seen in diastolic heart failure \n",
      "Lung findings \n",
      "• Fine crackle sounds (Rales) are found – fluid builds up in lungs and fills the alveoli which “pop” open with inspiration \n",
      "• Chest X ray shows congestion \n",
      "• Lungs/chest XRAY can be clear in chronic heart failure because patients can develop increased lymphatic drainage\n",
      "Hepatojugular reflux\n",
      "• Normally when someone presses on the abdomen just below the liver the JVP will raise 1-3cm \n",
      "• With failing right ventricle, the increase is greater\n",
      "Pitting edema\n",
      "• Lower extremities\n",
      "• Increased capillary hydrostatic pressure \n",
      "• Fluid leaks from capillaries and goes to tissues\n",
      "• Gravity pulls fluid to lower extremities\n",
      "Abnormal heart sounds on auscultation \n",
      "• S3 – associated with high left atrial pressure (occurs just after S2)\n",
      "• S4 – associated with stiff left ventricle (more often seen in diastolic heart failure) (occurs just before S1)\n",
      "• Displaced apical impulse – enlarged heart \n",
      "NYHA functional classification of severity \n",
      " \n",
      "Comparison of ACCF/AHA stages of HF\n",
      "https://drive.google.com/file/d/1xLJik0uCLOzS59oEUtMlUf36z0evAEVU/view?usp=sharing\n",
      "00:00DR. JASON RYAN\n",
      "Hello, everyone, and welcome to our module on acute heart failure. When you think about patients who have heart failure, which is a chronic disease, they can go back and forth between two states-- an acute form of heart failure where they have many, many symptoms, and a chronic form where they have much fewer symptoms. So patients who are having an acute exacerbation of their heart failure are congested with fluid and they're swollen with fluid.\n",
      "\n",
      "00:24\n",
      "They can have pulmonary edema and pitting edema, and their jugular venous pressure can be up. And you can have all the classic physical exam findings and signs that we talk about in patients with heart failure. But after they've been treated, a lot of this congestion is relieved. And these patients enter a state where they're relatively euvolemic, meaning they do not have excess fluid on their bodies.\n",
      "\n",
      "00:45\n",
      "Their lungs can be clear, their pitting edema may be gone, and they can have a flat JVP, meaning that they don't have an elevated jugular venous pressure. Now, these patients, even though they feel better and their exam is relatively normal, they still have a heart condition. Heart failure is a chronic condition, and this still needs to be treated. And I talk about the treatment for chronic heart failure in another video.\n",
      "\n",
      "01:07\n",
      "But in this video, we're going to focus on acute exacerbations of heart failure and what to do when patients develop all these signs and symptoms shown here. So let's talk about why patients who have heart failure develop acute exacerbations of their disease, where their symptoms abruptly become much worse. The number one reason this happens is because of dietary indiscretion.\n",
      "\n",
      "01:28\n",
      "And by this, I mean high salt or high sodium intake. And I'll talk in a minute about why high sodium intake is bad in patients who have heart failure. The second reason patients can develop an acute exacerbation of their symptoms is poor medication compliance. Patients who have chronic heart failure often have to take a lot of pills for their condition, and sometimes they can take the wrong pills or miss dosages, and this can lead to an acute exacerbation.\n",
      "\n",
      "01:54\n",
      "Shown on this slide is the mechanism by which dietary indiscretion leads to an acute exacerbation of symptoms in patients who have heart failure. So if a person eats a high sodium meal, all these potato chips shown in this picture here, whether that person has heart failure or not, that represents an increase in their dietary sodium intake. And that's going to slightly raise the plasma osmolality from that extra sodium.\n",
      "\n",
      "02:18\n",
      "This will be sensed by the brain and the pituitary gland will release more ADH, and that will go to the kidneys and cause the kidneys to retain free water. And by retaining free water that will balance out the sodium that was taken in by the diet, and the person will have a normal plasma sodium, despite the fact that they ate all this salt in these potato chips. A consequence, however, of the kidneys retaining free water is that the volume in the body will go up.\n",
      "\n",
      "02:43\n",
      "Now, eventually, the excess volume will cause the RAAS to dial down its activity, and this will decrease the amount of ADH being released by the pituitary gland. And because there's less ADH being released, there'll be more urine produced and there will be more urine output. And eventually, this volume will be excreted by the kidneys. But for a period of time, after you take in high sodium, your body always has excess volume.\n",
      "\n",
      "03:07\n",
      "Now, if you have a normal heart, this is fine. Your heart can handle the excess volume. But if you have a heart that's abnormal in a person with heart failure, this excess volume from the high sodium intake of the diet can lead to pulmonary edema and shortness of breath, and all the symptoms associated with an acute exacerbation of heart failure. Some other causes of acute exacerbations are shown on this slide.\n",
      "\n",
      "03:29\n",
      "Things like infections, trauma, or surgery. All of these things activate the sympathetic nervous system, which causes the body to hold on to salt and water, and that can exacerbate the symptoms of heart failure. Ischemia of the heart is also a rare cause of an acute exacerbation. If there's coronary ischemia, this can lower the cardiac output and cause an acute exacerbation. And then finally, one potential cause of an acute exacerbation that's high yield to know for your board exams is NSAID drugs.\n",
      "\n",
      "03:58\n",
      "So these drugs inhibit the enzyme cyclooxygenase, which produces prostaglandins. So when you inhibit this enzyme, there are fewer prostaglandins produced throughout the body. But one thing to know about prostaglandins is that they're very important for maintaining renal perfusion. So when there are less prostaglandins, there's less perfusion of the kidneys and therefore less urine made.\n",
      "\n",
      "04:19\n",
      "So this leads to salt and water retention in the body. And therefore a person who has heart failure, who takes a high dose of NSAIDs for their arthritis or some other pain condition, can develop an acute exacerbation. So the therapy or the treatment for acute exacerbations of heart failure is often administered in the hospital, although not always. But when you do hospital rotations, you will see lots of patients admitted with acute heart failure.\n",
      "\n",
      "04:46\n",
      "And the goal of treating them in the hospital is symptom relief. They're being admitted because they're short of breath and swollen, and we want them to feel better. And this is different than the goal in chronic heart failure, which I talk about in another video. When we're treating chronic heart failure, we're trying to reduce the mortality rate from heart failure and the hospitalization rate. But in the case of acute heart failure, we're mostly just trying to make patients symptoms go away so they feel better.\n",
      "\n",
      "05:09\n",
      "Another thing to know about the treatments for acute heart failure is that we often use the same therapies for diastolic versus systolic. We'll talk more about this later in this video, but we usually use diuretics to treat heart failure. And diuretics are very effective for acute diastolic heart failure and also acute systolic heart failure. And finally, on this slide, I've shown the hemodynamic profile of a patient who has acute heart failure, and it's super high yield to know this for your board exams.\n",
      "\n",
      "05:36\n",
      "So in any patient having an acute exacerbation of heart failure, their cardiac output is reduced compared to a normal patient. All patients with heart failure have a lower cardiac output than normal. Because of all the extra fluid in their body, they are going to fill up the chambers of their heart, and their left atrial pressure and their left ventricular and diastolic pressure are going to increase compared to normal.\n",
      "\n",
      "05:58\n",
      "This will lead to increases in the right atrial pressure and the pulmonary artery pressure as well. And I talk about how both of these things occur in the video on heart failure basics. Because the cardiac output is low, the sympathetic nervous system and the RAAS will be activated, and therefore the total peripheral resistance will go up. That's because arterioles are vasoconstricting in response to the low cardiac output.\n",
      "\n",
      "06:22\n",
      "And then finally, the body weight of patients who have an acute exacerbation of heart failure is always increased. In fact, asking patients to weigh themselves is one of the ways we tell them to monitor for retention of fluid. And their weight is increased because they're retaining all that fluid and fluid is filling up their lungs and their ankles and their legs.\n",
      "\n",
      "06:39\n",
      "And this is making them weigh more. So now we're going to talk about the treatment for acute heart failure. And the mainstay of treating acute heart failure is with loop diuretics. Loop diuretics are drugs that increase the urine output to remove all that excess fluid on the body of heart failure patients. I have an entire video on diuretics in the renal section.\n",
      "\n",
      "06:59\n",
      "But by way of review, loop diuretics inhibit the sodium-potassium II chloride pump found in the thick ascending limb of the loop of Henle. And when you inhibit this pump, there's going to be more urine going out in the kidneys. Some of the names of the loop diuretics are shown on the slide here. This includes drugs like furosemide, bumetanide, torsemide, and ethacrynic acid.\n",
      "\n",
      "07:20\n",
      "They all inhibit that sodium-potassium chloride pump. And this results in salt and water excretion. And this is going to lead to rapid relief of congestion. Remember, patients who have heart failure have a high left atrial pressure, and that means there's a high pressure in the capillaries in their lungs. This is driving fluid out into the lungs, causing pulmonary edema.\n",
      "\n",
      "07:40\n",
      "So when you administer a loop, diuretic, and fluid leaves the body, the left atrial pressure lowers and the pulmonary edema starts to resolve. And so for that reason, loop diuretics are first-line treatment for acute heart failure. This is because they produce a large urine output and offload a lot of excess fluid. Key side effects to know about are, first of all, hypokalemia. When you inhibit this pump right here, more potassium goes out in the urine.\n",
      "\n",
      "08:05\n",
      "You can also develop volume depletion. So patients who are given loop diuretics are going to lose volume of fluid from the body. And potentially this can cause renal failure or hypotension, depending on how high a dose of the loop diuretic you administer. And then finally, all of the loop diuretics are sulfonamide drugs. So they can potentially cause an allergy in patients who have a sulfa allergy.\n",
      "\n",
      "08:26\n",
      "The exception is ethacrynic acid, which is the one-loop diuretic that is not a sulfonamide drug. So as I said in the last slide, when you administer a loop diuretic, you rapidly reduce the left atrial pressure and the left ventricular end diastolic pressure. And this improves symptoms in patients with heart failure. It helps them to feel better and breathe easier. And this is a good thing.\n",
      "\n",
      "08:47\n",
      "But loop diuretics also come with a downside. By removing salt and water from the body, they lower the circulating volume, and that reduces the preload to the left ventricle. And this is going to lower the cardiac output in patients with heart failure who already have a low cardiac output. The further reduction in cardiac output from loop diuretics will lead to activation of the sympathetic nervous system. And this will cause peripheral vasoconstriction and raise the peripheral resistance.\n",
      "\n",
      "09:13\n",
      "So these two effects are sort of unwanted effects, but we get them any time we give a loop diuretic. Now, the good news is most heart failure patients can tolerate these effects. So even though the loop diuretic makes their cardiac output go down a little more, they can usually tolerate that without getting markedly sick. But if patients have severe end-stage heart failure, like patients who are awaiting a heart transplant with a very, very low left ventricular ejection fraction, these patients can develop hypotension as a side effect of the loop diuretic drug.\n",
      "\n",
      "09:43\n",
      "And that's because the drug is reducing the cardiac output. So at the bottom of the screen, I've summarized the hemodynamic changes associated with loop diuretic drugs. They lower the left atrial pressure and the left ventricular and diastolic pressure. This is a good thing. This is what makes patients feel better, but they also reduce the preload and therefore the cardiac output.\n",
      "\n",
      "10:03\n",
      "This triggers the sympathetic nervous system to increase the TPR, and then they can and usually do lower the blood pressure to some degree. Remember, blood pressure is the product of your cardiac output and your TPR. So these drugs lower the cardiac output. They trigger a response of a rise in the TPR. But usually, the overall effect is a lowering of the blood pressure any time you administer a loop diuretic.\n",
      "\n",
      "10:26\n",
      "We generally don't use thiazide diuretics to treat acute heart failure. And that's because thiazide diuretics are much weaker drugs compared to loop diuretics. They do not produce as much urine output. The one exception is we sometimes use the drug metolazone, which is a thiazide-like diuretic. It inhibits sodium chloride reabsorption in the distal tubule at this spot right here.\n",
      "\n",
      "10:46\n",
      "And so we sometimes give metolazone in addition to loop diuretics because it gives the loop diuretics a kick. So when you administer this together with a loop diuretic, you inhibit sodium reabsorption here and also here. And that double inhibition often leads to a lot of urine output. The side effects, however, of adding metolazone to a loop diuretic are that you get additional fluid and potassium loss and this can lead to problems like hypotension and hyperkalemia.\n",
      "\n",
      "11:14\n",
      "Another class of drugs sometimes used to treat acute heart failure are the nitrates. These drugs predominantly work by causing venous dilation. So remember that your veins hold lots of extra blood volume in your body. So if you dilate the veins, they will become bigger and they will hold more blood. And this will take blood away from the left ventricle, and that's going to lower the left ventricular and diastolic volume, which is the preload and also the left atrial pressure.\n",
      "\n",
      "11:38\n",
      "And this can make patients feel better because there can be less pulmonary edema. These drugs also cause a little bit of arterial vasodilation. You get that with nitrates. So these drugs also lower the TPR. So at the bottom here, I've summarized the hemodynamic effects of nitrates. They lower the LVEDP in the preload. This helps to improve symptoms.\n",
      "\n",
      "11:58\n",
      "But because you're lowering the preload, the cardiac output is going to go down a little bit. The TPR will fall. That's because these drugs have some arterial or vasodilation effects. And then finally, the blood pressure falls because you're both lowering the cardiac output and lowering the TPR. The side effects of nitrates have to do with vasodilation throughout the body.\n",
      "\n",
      "12:19\n",
      "So vasodilation in the meninges around the brain can lead to headache from nitrates. A classic side effect. The skin can also become flushed. And as I mentioned on the last slide, hypotension can also occur from the fall in cardiac output and the fall in TPR associated with these drugs. There are also a number of vasodilators that are sometimes used to treat acute heart failure.\n",
      "\n",
      "12:41\n",
      "These are drugs like ACE inhibitors and hydralazine, drugs that cause peripheral vasodilation. These drugs reduce the afterload on the left ventricle and therefore they increase the cardiac output slightly. And so in a patient with heart failure, this can help them to feel better because the cardiac output goes up and that leads to a decrease in that left atrial pressure because the ventricle is pumping more blood and that can help patients feel better.\n",
      "\n",
      "13:06\n",
      "This is a treatment process we sometimes call afterload reduction for patients with acute heart failure. And usually, this is only done when the blood pressure is very high. So a patient with acute heart failure who has a blood pressure of 170 or 180 or 190, that patient is an excellent candidate for afterload reduction with some of these drugs here that will lower the blood pressure and increase the cardiac output.\n",
      "\n",
      "13:29\n",
      "Decades ago, nitrates were often given together with the vasodilator hydralazine as combination therapy for acute and chronic heart failure. This drug combination was studied in systolic heart failure. And the idea was that you would give nitrates to reduce the preload, which would lower the left atrial pressure, and you'd give hydralazine to reduce the afterload and raise the cardiac output.\n",
      "\n",
      "13:51\n",
      "And this was shown as acute therapy to improve symptoms. And there was even some evidence that if you give this to patients chronically-- meaning after they feel better and their breathing is normal, they would have a lower mortality. You rarely see this combination used anymore, though, because it's mostly been replaced by ACE inhibitors and other drugs that I talk about in the video on chronic heart failure.\n",
      "\n",
      "14:12\n",
      "OK. Let's talk about inotropes. So inotropes are drugs that are sometimes used in acute heart failure that increase contractility. These drugs are only used in systolic heart failure. They have no role in diastolic heart failure, diastolic heart failure patients have normal contractility and inotropes provide no benefit. But they do provide benefit in systolic heart failure.\n",
      "\n",
      "14:33\n",
      "When the left ventricular ejection fraction is very low, these drugs will increase contractility and therefore increase the cardiac output. They have important side effects that we'll talk about in a minute. So generally, inotropes are reserved for patients with severe systolic heart failure. So very low ejection fractions, very low cardiac output, and they're usually given in the ICU as intravenous drugs.\n",
      "\n",
      "14:55\n",
      "All these drugs work through the beta 1 pathway in myocytes. When you trigger the beta 1 pathway, you increase heart rate and contractility, and that's what most of these drugs do. These drugs also sometimes activate beta 2 pathways, which are found in peripheral smooth muscle. This can lead to vasodilation by dilating peripheral arterioles and cause hypotension. So common to most of these drugs that we're going to talk about is that they raise the heart rate and contractility, which is a good thing.\n",
      "\n",
      "15:23\n",
      "But they cause vasodilation. And this can lead to hypertension. Let's start by talking about dobutamine, which is a classic inotrope drug used for treating severe systolic heart failure. So dobutamine is mostly a beta-1 agonist. So by working on beta-1 receptors in the heart, it will increase the heart rate and increase the contractility, and these things will raise the cardiac output, which can help patients with severe systolic heart failure.\n",
      "\n",
      "15:48\n",
      "Dobutamine is also a weak beta-2 agonist, so it will activate peripheral beta-2 receptors causing vasodilation and this can make the blood pressure fall. So the net result of using dobutamine as a treatment for heart failure is that you get an increase in inotropy, meaning more contractility. You also get vasodilation, which can lead to hypotension.\n",
      "\n",
      "16:09\n",
      "The increase in cardiac output, however, leads to more renal perfusion, and this causes the kidneys to produce more urine, so you get diuresis and volume loss. So even though these drugs are working on the heart by increasing the cardiac output, they perfuse the kidneys more and you eventually get diuresis and volume loss, which is good for heart failure. So I've summarized the hemodynamic changes you would expect with dobutamine on this slide.\n",
      "\n",
      "16:34\n",
      "This drug should raise the cardiac output by pumping more blood out of the heart that will lower the left atrial pressure and LVEDP. This is a good thing which improves symptoms. You're going to get a fall in the afterload and the total peripheral resistance because of the vasodilation. And that's going to lead to a fall in blood pressure. Another inotrope drug that works very similar to dobutamine is milrinone.\n",
      "\n",
      "16:58\n",
      "Milrinone works by inhibiting phosphodiesterase 3 in myocytes, and this ends up having the same effect as activating beta-1 receptors. So if you look at my little cartoon on the screen here, when you activate a beta-1 receptor in a myocyte, that leads to the production of more cyclic AMP, which generates more contraction. Cyclic AMP, however, is broken down by phosphodiesterase 3 into AMP.\n",
      "\n",
      "17:21\n",
      "So when you give milrinone, you inhibit this enzyme. And that raises the amount of cyclic AMP in the myocyte. It's the same effect as activating the beta-1 receptor. And with more cyclic AMP, you get more contraction. And this leads to a rise in contractility and the cardiac output. So the bottom line here is that phosphodiesterase III inhibitors, just like dobutamine increase contraction in myocytes.\n",
      "\n",
      "17:43\n",
      "They also have the same effect as dobutamine on beta-2 receptors in the periphery. So this leads to vasodilation and this can lower the blood pressure. So the effects of these drugs are summarized right here. It's the same effects as dobutamine. You get a rise in inotropy and contractility, which raises the cardiac output. There's peripheral vasodilation and that can lead to hypotension.\n",
      "\n",
      "18:06\n",
      "Dopamine is another drug that can be used as an inotrope, although it's not used as much as dobutamine and milrinone. So when you give dopamine in a peripheral vein, you should be aware that it doesn't cross the blood-brain barrier. So there are no central nervous system effects. So if you've studied Parkinson's disease and the brain effects of dopamine, none of those things occur when you give dopamine as a drug in a peripheral vein.\n",
      "\n",
      "18:28\n",
      "And the peripheral effects of this drug on the body are highly dose-dependent. So if you give dopamine at a low dose, it activates dopamine receptors, which are found in the kidneys. And this produces vasodilation and an increase in blood flow in the kidneys only. At medium doses, dopamine is a beta 1 agonist, so it will raise the heart rate and the contractility just like dobutamine.\n",
      "\n",
      "18:49\n",
      "And at high dosages, dopamine becomes more of an alpha agonist causing vasoconstriction. And then I'll briefly mention epinephrine, which can also function as an inotrope, although it's very rarely used for acute heart failure. Just like dopamine, epinephrine has dose-dependent effects. So at low dosages, it's mostly a beta 1 and beta 2 agonists. So it will raise the heart rate and the contractility of the left ventricle and cause peripheral vasodilation.\n",
      "\n",
      "19:16\n",
      "At higher dosages, epinephrine acts more like an alpha agonist. And it predominantly causes vasoconstriction. So because inotropes raise the cardiac output, you might be wondering why don't we give these drugs to all patients who have heart failure. And the reason we don't do that is because inotropes carry substantial risks. These drugs have been shown to have increased mortality in lots of registries and clinical trials.\n",
      "\n",
      "19:39\n",
      "This is because these drugs can trigger arrhythmias in heart failure patients. So even though you are raising their cardiac output, if you cause a life-threatening arrhythmia, that is obviously bad. So the bottom line is that all these drugs I've mentioned in the last few slides dobutamine, milrinone, epinephrine, dopamine, these are dangerous drugs and we reserve them for very sick patients under monitored conditions, usually in the ICU.\n",
      "\n",
      "20:03\n",
      "So in this slide, I've shown an example of what the typical hospital course might be like for a patient with acute heart failure. This is just to give you an idea in your mind of how these drugs are used in actual practice. So the hospital course begins with an ER presentation. The patient complains of dyspnea, has edema. They're sleeping in a chair because it's difficult to breathe lying flat.\n",
      "\n",
      "20:25\n",
      "And the exam is consistent with heart failure. So they receive the clinical diagnosis of heart failure. They're admitted to the hospital, they're placed on a nitro drip to help their dyspnea, and they're given IV furosemide to remove fluid. On hospital day two, their weight is down 4 kilograms and they feel better. The nitro drip is stopped. The furosemide is changed to an oral version that they can go home on.\n",
      "\n",
      "20:47\n",
      "And then on hospital day 3, they're discharged. So this is just a little picture, a little glimpse of how all these drugs are used in the hospital for acute heart failure. Some patients have a more complex hospital course, which I've summarized on this slide. So let's imagine the patient has the same ER presentation with the same symptoms, but there are left ventricular ejection fraction is known to be very low at 10% They're admitted to the hospital and given nitro and furosemide.\n",
      "\n",
      "21:13\n",
      "But on hospital day two, they're not making much urine output, and their extremities are cool. In addition, their creatinine rises from 1.1 to 1.4, indicating acute kidney injury. So in this situation, this is when we sometimes start inotropes like dobutamine. After the dobutamine is given, remember, that drug is going to increase the cardiac output. Then the patient starts to produce good urine output.\n",
      "\n",
      "21:37\n",
      "Their weight comes down and their breathing improves. On hospital day 6, you're able to stop the dobutamine and stop the furosemide. On day 7, you give oral furosemide. And finally, on hospital day 8, you're able to discharge the patient home. So this is a glimpse into acute heart failure in a patient with more severe systolic heart failure who requires inotropes?\n",
      "\n",
      "21:57\n",
      "You should be aware that readmission's to the hospital are very common among patients who have treatment in the hospital for acute heart failure. A readmission refers to a recurrence of acute heart failure symptoms after discharge from the hospital that leads to a second hospitalization. And many studies have shown that there's a high risk of readmission to the hospital within 30 days of discharge for patients treated for acute heart failure.\n",
      "\n",
      "22:21\n",
      "And heart failure patients are considered the highest risk category among the Medicare population for readmission. So there's a lot of targeting of readmission's that's done within public health policy. We do a lot of things to try and keep patients from coming back to the hospital. Mainly this involves post-discharge follow-up so that the patient sees their doctor and gets the help they need so that they don't get sick again and come back in the hospital.\n",
      "\n",
      "22:44\n",
      "After treatment for acute heart failure, you should be aware that most patients require a chronic daily dose of an oral diuretic. This helps to keep them euvolemic, meaning it helps to keep them from becoming volume-overloaded and swollen again. Usually, this is a daily oral dose of furosemide or some other loop diuretic. There are also some patients who, after discharge, require a daily long-acting nitrate.\n",
      "\n",
      "23:06\n",
      "Drug we usually use is isosorbide mononitrate. It's a once-daily drug that's a long-acting nitrate. And so together with loop diuretics, are sometimes required in patients who've been treated for acute heart failure. So they don't become volume-overloaded and symptomatic again. And then you should be aware that there are rare patients who need ongoing chronic treatment for low cardiac output.\n",
      "\n",
      "23:28\n",
      "This only occurs in systolic heart failure patients, and it's usually patients with a very reduced left ventricular ejection fraction. These patients need chronic ongoing therapy for their low output. One option is a chronic intravenous infusion of an inotrope. We often do this with dobutamine. This is referred to as home dobutamine.\n",
      "\n",
      "23:46\n",
      "The patient goes home with an IV in place and a pump, and they take dobutamine 24 hours a day. There's also an option of surgically placing a left ventricular assist device, which is a mechanical pump to assist the left ventricle. And then finally, there's heart transplantation. These therapies are infrequently used. Most heart failure patients do not need them. But this is for so-called very advanced heart failure patients with a very, very low cardiac output.\n",
      "\n",
      "24:12\n",
      "Finally, I'll finish this video by talking about the drug digoxin. So digoxin is the only available oral inotrope. And once upon a time, deje and diuretic were the mainstay of heart failure treatment. If patients had acute heart failure, they were given a loop diuretic like furosemide, and they were loaded with digoxin to increase their contractility and their cardiac output.\n",
      "\n",
      "24:33\n",
      "Well, what changed? And why don't we do this anymore? Well, one reason is because digoxin was shown to have no mortality benefit. So there was no point in giving this to patients every day with heart failure because it didn't improve their mortality. Also, digoxin is not effective for diastolic heart failure, and that's about 50% of all acute heart failure cases. So it had no role here.\n",
      "\n",
      "24:53\n",
      "And then finally, digoxin carries significant risk of side effects, which we'll talk about in a minute. And so for all of these reasons, you don't see digoxin used that much anymore, but it is used occasionally for patients with very low cardiac output who need to take an oral inotrope every day to try and increase contractility. Digoxin has two important cardiac effects that account for its use in heart disease.\n",
      "\n",
      "25:16\n",
      "The first one is that it inhibits the sodium-potassium ATPase pump found in cardiac myocytes. So if you look at my cartoon on the slide here, there is a pump found in myocytes like pump number one that brings potassium into the myocyte and pushes sodium out of the myocyte. This pump uses ATP to drive its function, and this pump is inhibited by digoxin. When digoxin inhibits this pump, more sodium will hang around inside the myocyte.\n",
      "\n",
      "25:43\n",
      "That affects a second pump like pump number two here. This pump normally pushes calcium out of the cell and brings sodium into the cell, but it's less active when there's more sodium inside the cell from digoxin-inhibiting pump one. So the net effect of the drug, which I've summarized here is there's more sodium trapped inside the cell, less sodium exchange for calcium in pump two, and the overall result is more calcium inside of myocytes, and that is what leads to more contractility.\n",
      "\n",
      "26:11\n",
      "And that's why digoxin works as an inotrope. A second effect that it has that's completely separate from its effects on contractility are that it suppresses AV node conduction. It does this by increasing the parasympathetic stimulation to the heart. So this will slow conduction in the AV node. And for this reason, you can sometimes use digoxin to slow the heart rate in patients with rapid atrial fibrillation.\n",
      "\n",
      "26:33\n",
      "And I talk about this use of digoxin in other videos. So I won't discuss the adverse effects of digoxin. I talk about those in detail in the videos on antiarrhythmic drugs. But I'll finish this video with this slide where I summarize the benefits of digoxin in patients who have heart failure. So as I said before, it's only useful in systolic heart failure, and it's generally reserved for patients who have symptoms despite maximal therapy and other drugs.\n",
      "\n",
      "26:58\n",
      "So after you've given the patient a loop diuretic and an ACE inhibitor and a beta blocker, if they still have dyspnea or edema, that's when you will sometimes try digoxin in systolic heart failure. You can give it for acute heart failure. You can also give it long-term to maintain a high cardiac output after you've treated a patient for acute heart failure.\n",
      "\n",
      "27:18\n",
      "And its benefits, as we discussed, are that it increases contractility, so the cardiac output will go up. And studies have shown that in the right patients, this will improve symptoms and quality of life. But as I mentioned before, it has no established mortality benefit. It does not lower the risk of dying from heart failure. And so for that reason, we usually only use it in patients who have symptoms that are persistent.\n",
      "\n",
      "27:40\n",
      "And that concludes our video on acute heart failure.\n"
     ]
    },
    {
     "name": "stdout",
     "output_type": "stream",
     "text": [
      "### I. **Embryology of the Integument**\\n\\n#### 1. **Origin and Initiation of Development**  \\nThe integument originates primarily from the superficial ectoderm, which, during the early weeks of gestation (around the 3rd to 4th week), forms a single layer that will later develop into the epidermis. This differentiation is induced by signals from the adjacent mesoderm, which contributes to the formation of the dermis, demonstrating an essential interaction between these two tissues.  \\n\\n#### 2. **Differentiation and Maturation Processes**  \\nDuring the embryonic phase, the epithelium undergoes differentiation into layers, initially forming the periderm and later establishing the basal layer, which gives rise to the stratified layers of the epidermis.  \\nThrough molecular signals (such as those from the BMP, Wnt, and FGF families), induction and organization of skin appendages, such as hair follicles, sweat glands, and sebaceous glands, occur through invaginations and epithelial-mesenchymal interactions.  \\n\\n#### 3. **Formation of Skin Appendages**  \\nThe formation of hair follicles begins with the development of placodes in the epithelium, which interact with the underlying mesenchyme. This process is crucial for the subsequent differentiation of follicles, as well as for the formation of other structures such as apocrine and eccrine glands.  \\nThe complete development of the integument occurs throughout the second and third trimesters, culminating in the full maturation of epidermal layers and skin appendages, which are essential for the protective and sensory functions of the skin.  \\n\\n---\\n\\n### II. **Clinicopathological Discussion**\\n\\n### A. **Epidermolysis Bullosa (EB)**  \\n\\n#### 1. **Definition and Etiology**  \\nEpidermolysis bullosa is a group of genetic disorders characterized by extreme fragility of the skin and mucous membranes, resulting in blister formation with minimal trauma.  \\nThis fragility is caused by mutations in genes encoding essential proteins for cell adhesion, such as keratins (EB simplex), laminins and integrins (junctional EB), or type VII collagen (dystrophic EB).  \\n\\n#### 2. **Classification and Pathological Mechanism**  \\n- **EB simplex**: Usually autosomal dominant, involving intraepidermal separation, with blisters forming due to keratinocyte fragility.  \\n- **Junctional EB**: Autosomal recessive, with separation occurring at the level of the lamina lucida, impairing the junction between the epidermis and dermis.  \\n- **Dystrophic EB**: Results from mutations in the type VII collagen gene, leading to sub-lamina basal separation, abnormal healing, and scar formation.  \\n\\nIn each subtype, structural alterations in adhesion proteins result in **acantholysis** (loss of cohesion between keratinocytes) at specific levels, evidenced by blister and erosion formation on the skin.  \\n\\n#### 3. **Clinical and Diagnostic Aspects**  \\nPatients may present with blisters and erosions at birth or during childhood, with an increased risk of infections, scarring, and systemic complications.  \\nDiagnosis is established through **histopathology, immunofluorescence**, and often **genetic testing**, which determines the level of separation and identifies the defective protein.  \\n\\n---\\n\\n### B. **Bullous Pemphigoid**  \\n\\n#### 1. **Definition and Etiology**  \\nBullous pemphigoid is a **late-onset autoimmune disease** that primarily affects the elderly.  \\nIn this condition, **IgG autoantibodies** target hemidesmosomal components, particularly **BP180 (collagen XVII) and BP230**, which are crucial for adhesion between keratinocytes and the basement membrane.  \\n\\n#### 2. **Pathological Mechanism and Histological Findings**  \\nAutoantibody action leads to the formation of **subepidermal blisters**.  \\nHistologically, a well-defined **blister with dense inflammatory infiltrate**, often rich in **eosinophils**, is observed.  \\n**Direct immunofluorescence** reveals a **linear pattern of IgG and C3 deposition along the basement membrane**, confirming the diagnosis.  \\n\\n#### 3. **Clinical Presentation and Treatment**  \\nClinically, patients present with **tense, pruritic blisters**, usually located on **flexural and acral areas**.  \\nUnlike **pemphigus vulgaris**, **mucosal involvement is rare**, aiding in differential diagnosis.  \\nTreatment is based on **systemic corticosteroids** and, in resistant cases, **other immunosuppressants**, with careful monitoring due to the adverse effects of prolonged therapy.\\n\n",
      "Psoriatic arthritis is a chronic inflammatory joint disease that occurs in a subset of patients who have psoriasis, a skin disorder characterized by well-demarcated plaques covered in silvery scales. Psoriatic arthritis belongs to the group of seronegative spondyloarthropathies, which share these key features:\\n\\nNegative Rheumatoid Factor\\nThey typically do not have rheumatoid factor (RF) antibodies—hence the term “seronegative.”\\n\\nAssociation With HLA-B27\\nThere is a strong genetic link to the HLA-B27 allele in many patients.\\n\\nInflammation of the Axial Skeleton and/or Peripheral Joints\\nWhile psoriatic arthritis often involves the small joints of the hands and feet, it can also affect the spine or sacroiliac joints.\\n\\nClassic Clinical Features\\nSkin and Nail Findings\\nPsoriatic arthritis is usually preceded (or accompanied) by psoriasis on the skin—red or “salmon-pink” plaques with silvery scales. Nail pitting (small depressions in the nail plate) or onycholysis (painless separation of the nail from the nail bed) is common.\\n\\nJoint Involvement\\n\\nDIP Predilection: Psoriatic arthritis frequently affects the distal interphalangeal (DIP) joints of the hands and feet. This is in contrast to rheumatoid arthritis, which more commonly spares the DIPs.\\n\\n“Sausage” Digits (Dactylitis): Diffuse swelling of an entire finger or toe (“sausage digit”) caused by inflammation in both the joints and tendons.\\n\\n“Pencil-in-Cup” Deformity: On X-ray, severe erosion at the DIP joint may give the appearance that the distal end of one bone tapers down into a cup-shaped end of the adjacent bone.\\n\\nEnthesitis\\nInflammation at the sites where tendons/ligaments insert into bones (entheses)—e.g., Achilles tendon insertion. This can cause heel pain or localized tenderness.\\n\\nAsymmetric Oligoarthritis or Symmetric Polyarthritis\\nSome patients have only a few joints inflamed (oligoarthritis), and others have multiple joints (polyarthritis) in a distribution resembling rheumatoid arthritis.\\n\\nDiagnosis\\nClinical Examination\\nLook for psoriasis (active or past), characteristic nail changes, DIP involvement, and sausage digits.\\n\\nImaging\\n\\nX-rays may reveal the classic “pencil-in-cup” deformity, periostitis (new bone formation along the shafts of bones), or erosive changes with adjacent new bone growth.\\n\\nMRI can help detect enthesitis and early joint inflammation.\\n\\nSerologies\\n\\nRheumatoid factor (RF) and anti-CCP are typically negative (hence “seronegative”).\\n\\nHLA-B27 status may be checked in spondyloarthropathy workups but is not required for diagnosis.\\n\\nTreatment\\nNSAIDs (e.g., Ibuprofen, Naproxen)\\nOften used first-line for symptomatic relief of mild disease.\\n\\nDMARDs (Disease-Modifying Antirheumatic Drugs)\\n\\nMethotrexate is commonly used for patients with moderate to severe psoriatic arthritis and/or significant skin involvement.\\n\\nLeflunomide can also be helpful by blocking T-cell proliferation.\\n\\nBiologic Agents\\n\\nTNF-α inhibitors (e.g., etanercept, adalimumab, infliximab) may be indicated in patients whose symptoms do not respond to traditional DMARDs or who have severe joint or skin disease.\\n\\nIL-17 or IL-12/IL-23 inhibitors (e.g., secukinumab, ixekizumab, ustekinumab) target specific cytokines implicated in psoriasis and psoriatic arthritis.\\n\\nLifestyle Measures\\n\\nPhysical therapy, regular exercise, and weight management can help preserve joint function and reduce stress on weight-bearing joints.\\n\\nKey Points to Remember\\nPsoriatic arthritis is one of the seronegative spondyloarthropathies, often involves DIP joints, and can cause “sausage digits.”\\n\\nTypical skin findings include well-demarcated psoriatic plaques and possible nail pitting.\\n\\nX-ray may reveal “pencil-in-cup” deformities.\\n\\nTreatment progresses from NSAIDs for milder disease to DMARDs, and biologics if needed.\n"
     ]
    },
    {
     "name": "stdout",
     "output_type": "stream",
     "text": [
      "https://app.ankihub.net/ai/file-search/input-file/ai-files/83793/7a4d6de2-280a-4418-b6a8-55dadcb4fc72.pdf/\n",
      "https://app.ankihub.net/ai/file-search/input-file/ai-files/83793/29627a54-579d-4ced-978d-9b6f4b5c59af.pdf/\n",
      "https://app.ankihub.net/ai/file-search/input-file/ai-files/83793/e4984b18-e7cb-48c3-a03e-3cd5cb36bd96.pdf/\n",
      "https://app.ankihub.net/ai/file-search/input-file/ai-files/83793/4f171ac2-3e61-4ab4-a531-64c9455505c7.pdf/\n",
      "After completing this brick, you will be able to:\n",
      "\n",
      "Define appetite and satiety, hyperphagia and aphagia, and the dietary Calorie.\n",
      "List the two major systems of the body involved in weight management and the concept of anorexigenic and orexigenic compounds.\n",
      "Describe the role of appetite and metabolic rate in the maintenance of long-term energy, balance, and fat storage, and list and discuss the three normal components of energy expenditure.\n",
      "List the anorexigenic hormones and the one known orexigenic hormone and their main secretagogue or mode of release, and briefly discuss their putative mechanisms of action.\n",
      "Describe the importance of the hypothalamus in the control of appetite, list its three main nuclei that have been implicated for appetite control, and discuss the influence of leptin and ghrelin on the arcuate nucleus.\n",
      "Describe Prader-Willi syndrome and the importance of the hypothalamus in the development of the related hyperphagia.\n",
      "Case Connection\n",
      "“I’m frustrated. I can’t lose weight,” TR says. “I cut back on the sugared drinks and chips, but I’m still stuck on 150 pounds. What can I do? My 25th college reunion is coming up and I’ve got to take off 10 pounds. Got a magic pill?”\n",
      "\n",
      "What advice can you give TR to maximize her success at losing weight? Consider your answer as you read, and we’ll revisit at the end of the brick.\n",
      "\n",
      "Go to Conclusion\n",
      "How Is Appetite Controlled?\n",
      "Our bodies are quite well regulated with feedback controls for our senses of both hunger and satiety (ie, feeling well fed)—all without conscious effort. They are like machines that are continually working and in need of steady fuel. When we lie down to sleep, our bodies don’t switch off with us; in fact, our bodies use that time to rebuild and store some of what we’ve fed it that day. But note that these reflexes were designed over millions of years of evolution, with the goal of avoiding starvation. In modern times, obesity is a bigger threat, especially in developed countries, so many of these “survival” reflexes can be harmful to us, leading to metabolic syndrome and type 2 diabetes mellitus.\n",
      "\n",
      "How do hunger and satiety work? They are signals that our bodies use to control our appetite. Hunger is our body telling us that we need more fuel and satiety that we have enough fuel for now. This intricate balance is controlled by both hormonal and neural gastrointestinal (GI) input.\n",
      "\n",
      "These systems are a continuous feedback loop. In this complex system, hormones serve as signals between cells of the GI tract and pancreas and the hypothalamus. When we eat, our GI system works to break down the fuel we just fed our bodies so our cells can use these various nutrients (ie, monosaccharides, fatty acids, and amino acids). Once our GI system has sensed that we have given it enough fuel, it sends a signal back to the hypothalamus to say that we are now “full,” and the hypothalamus in turn sends the satiety signal that tells us to stop eating… that is, until our cells need more fuel!\n",
      "\n",
      "Which two systems control appetite?\n",
      "Appetite is controlled by the hypothalamus and cells of the GI system.\n",
      "How Is Appetite Balanced with Metabolic Expenditure?\n",
      "Why do our bodies require so much fuel? Well, functions such as respiration, circulation, and digestion don’t come “free of charge” (ie, they require energy). In this section, we will discuss the three main types of energy expenditure, including resting metabolic rate (RMR), the cost of digestion, and activity-related expenditure like daily activities and exercise (Figure 1).\n",
      "\n",
      "\n",
      "Figure 1\n",
      "Credit: ©ScholarRx\n",
      "\n",
      "Resting Metabolic Rate\n",
      "By simply existing (or restfully sleeping), our bodies are constantly working. Our cells are functioning to keep us breathing, keep our hearts working, dispose of cellular waste, and more. This basic state of existing uses calories and is known as the resting metabolic rate (RMR). Each person’s RMR differs based on body composition. A bodybuilder who is constantly lifting weights (and has lots of muscle) will have a higher RMR than a sedentary adult, because it takes more energy to keep the bodybuilder’s cells working. RMR can account for 1300-2000 kcal/d for a young adult, depending on age, weight, and height. It is about two-thirds of your daily energy expenditure overall. However, it drops with aging, perhaps by as much as 30%.\n",
      "\n",
      "Let’s back up for a moment to go over the important distinction between calorie and Calorie (note the uppercase C). First, they are both units of energy. The physics calorie (lowercase) is the energy required to increase the temperature of 1 g of water by 1°C. The dietary Calorie (uppercase) is equal to 1000 calories (also known as a kilocalorie, or kcal) and is the energy required to raise the temperature of 1 kg of water by 1°C. The amount of energy in a calorie is too small to approximate the energy content of food, so the larger Calorie is used. We’ll go with kcal to avoid any confusion.\n",
      "\n",
      "Diet-Induced Thermogenesis\n",
      "Diet-induced thermogenesis is the energy used by the GI system to break down, digest, transport, and store the food eaten. Diet-induced thermogenesis accounts for 10%-15% of daily energy expenditure. Protein has a higher thermic effect than carbohydrates or fats because protein use is a more complex process.\n",
      "\n",
      "Activity-Related Energy Expenditure\n",
      "So far, the energy usage is mostly beyond our control. How can we increase our energy expenditure if we want to lose weight? First, the energy used during activities of daily living (ADLs), including eating, bathing, dressing, toilet use, and routine movement, is called non-exercise–associated thermogenesis (NEAT). NEAT is about 300-600 kcal/d and can account for differences in weight gain or loss in two individuals with identical caloric intake and RMR (ie, one burns more or fewer calories doing ADLs than the other does, so they may gain or lose weight at the same caloric intake). You can increase NEAT by pacing or standing rather than sitting in a chair all day. NEAT does not include formal exercise, such as running, lifting weights, and swimming. These can expend a wide range of energy, from 150 kcal/h (slow walking) to >1500 kcal/h (intense rowing or running). Increasing NEAT and exercising are both ways we can increase our energy use, so they are often the focus of weight loss programs.\n",
      "\n",
      "What factors into NEAT?\n",
      "NEAT includes any calories burned that are related to ADLs and not specific exercise or resting metabolic rate (things like walking to and from the car).\n",
      "How Is Our Appetite Regulated?\n",
      "No matter what our energy expenditure, our level of intake is key to the above balance, and this is regulated by appetite. So how is appetite regulated at a physiologic level? Most important is a group of hormones. The hormones we’ll discuss can be categorized as orexigenic (stimulating hunger) or anorexigenic (inducing satiety). Figure 2 provides a schematic of basic hormonal interactions.\n",
      "\n",
      "Figure 2\n",
      "Credit: ©ScholarRx\n",
      "\n",
      "Orexigenic Hormones\n",
      "Orexigenic hormones increase appetite. Ghrelin is the main hormone that makes us hungry. Ghrelin is secreted by gastric cells before a meal to stimulate appetite and increase food intake by acting on the hypothalamus. During periods of starvation, fasting, and weight loss, ghrelin is increased.\n",
      "\n",
      "Mnemonic\n",
      "To remember the hunger hormone ghrelin: If you’re starving, fasting, or losing weight, your stomach is probably ghrowlin’.\n",
      "Use your stomach to remember the effect of ghrelin.\n",
      "Clinical Correlation\n",
      "Sleep deprivation can cause increased levels of ghrelin. It’s important to keep this in mind when dieting or trying to lose weight, because losing sleep can contribute to weight gain.\n",
      "\n",
      "Orexin acts on the lateral hypothalamus with the overall effects of promoting wakefulness as well as stimulating the drug and food reward centers of the brain.\n",
      "\n",
      "Clinical Correlation\n",
      "Narcolepsy is characterized by excessive daytime sleepiness and is caused by a decrease in orexin (remember, orexin promotes wakefulness).\n",
      "\n",
      "Anorexigenic Hormones\n",
      "Leptin and insulin are the main hormones that make us feel sated and promote weight loss, but others with primary functions elsewhere in the body have also been implicated in causing satiety.\n",
      "\n",
      "Leptin. Leptin is secreted by fat cells based on the amount of fat stored in those cells. Leptin then acts on the arcuate nucleus (in the hypothalamus) to decrease appetite and increase energy expenditure. Because it is an indicator of fat storage, leptin acts long-term to decrease appetite based on the amount of fat stored. Without leptin, the result is hyperphagia, or an abnormally increased appetite for food (that may be associated with hypothalamic injury).\n",
      "\n",
      "Clinical Correlation\n",
      "Dieters have reduced leptin levels, which makes things hard by increasing appetite and decreasing energy expenditures.\n",
      "\n",
      "Insulin. Insulin is also anorexigenic; however, insulin has more critical effects, such as increasing the uptake of glucose from the blood into cells as well as increasing cellular enzyme functions for energy storage (eg, fat and glycogen synthesis). Insulin levels fluctuate throughout the day to decrease appetite based on the amount of food eaten that particular day.\n",
      "\n",
      "Which two hormones are anorexigenic?\n",
      "Leptin and insulin are anorexigenic.\n",
      "Adiponectin and Cholecystokinin. Adiponectin is a fat-derived hormone that functions to decrease hepatic gluconeogenesis (formation of glucose from noncarbohydrate molecules like amino acids) and increase fatty acid oxidation. Cholecystokinin (CCK), secreted by the I cells of the duodenum and the jejunum, is essential for proper digestion but has also been proposed to have central nervous system effects related to satiety. Both adiponectin and CCK are anorexigenic.\n",
      "\n",
      "Peptide YY. Peptide YY, part of the PP family, is secreted by intestinal L cells after a meal and acts to decrease appetite via direct action on the hypothalamus as well as direct inhibition of ghrelin secretion. Peptide YY also acts to inhibit pancreatic enzyme secretion, so it limits food digestion.\n",
      "\n",
      "Glucagon-Like Peptide-1. GLP-1 functions to increase insulin secretion, thereby having an overall anorexigenic effect. For short-term control of appetite, insulin works closely with both GLP-1 and CCK to mediate the hypothalamic feeding centers.\n",
      "\n",
      "Oxyntomodulin. Oxyntomodulin is secreted by intestinal cells in response to food intake to decrease appetite and food consumption following food intake.\n",
      "\n",
      "Non-Hormonal Appetite Control\n",
      "Hormones are the most important appetite-controlling factors. However, newer research and theories posit that an increase in glucose, amino acids, or lipids can directly decrease the appetite without hormonal control. The idea behind these theories is that our bodies can sense when we have enough of each essential nutrient, leading to an overall short-term decrease in appetite. The precise mechanisms for this remain under study.\n",
      "\n",
      "Where Are Hunger and Satiety Centers Located in the Brain?\n",
      "Certain regions of the brain are essential to balance appetite. Some areas inherently control appetite without outside influence, and some regions respond to and produce appetite-regulating hormones. In addition, metabolic substrate levels may also influence the brain’s control of appetite.\n",
      "\n",
      "Hypothalamic Nuclei\n",
      "In the hypothalamus, two important nuclei work in tandem to keep the appetite in equilibrium:\n",
      "\n",
      "The lateral nucleus causes hunger as its baseline function and is further stimulated by ghrelin (which increases hunger) and inhibited by leptin (which decreases hunger).\n",
      "In contrast, the ventromedial nucleus causes satiety at baseline and is stimulated by leptin (which decreases hunger and overall food intake).\n",
      "Lesions in either of these nuclei (eg, due to a stroke) may result in opposite predictable outcomes. Destruction of the lateral nucleus causes anorexia and aphagia (inability or refusal to swallow). Destruction of the ventromedial nucleus leads to hyperphagia. This has been shown in animal research. Figure 3 shows that, in animal experiments, a lesion of the lateral hypothalamus leads to aphagia and anorexia (a thin rat), while lesions of the ventromedial nucleus leads to hyperphagia and obesity (a fat rat).\n",
      "\n",
      "\n",
      "Figure 3\n",
      "Credit: ©ScholarRx\n",
      "\n",
      "Mnemonic\n",
      "To remember which clinical outcome results from injury to which hypothalamic nucleus:\n",
      "Lesions of the LATERAL nucleus cause you to shrink LATERALly.\n",
      "Lesions of the VENTROMEDIAL nucleus cause you to grow VENTRally and MEDIALly.\n",
      "Which clinical outcome results from injury to the lateral hypothalamus? Which results from injury to the ventromedial hypothalamus?\n",
      "Arcuate Nucleus\n",
      "The arcuate nucleus plays a role in appetite control because it has receptors for both leptin and insulin, the main anorexigenic hormones. When stimulated, the arcuate nucleus produces pro-opiomelanocortin (POMC), neuropeptide Y, agouti-related protein, and ghrelin, all of which contribute to appetite equilibrium.\n",
      "\n",
      "What Happens When Appetite Regulatory Systems Fail?\n",
      "Prader-Willi syndrome is a relatively rare genetic abnormality that results from the deletion of part of chromosome 15. When this happens, ghrelin secretion becomes upregulated as well as unregulated and unbalanced. The overall increase in ghrelin leads to an insatiable appetite (Figure 4). Children with Prader-Willi syndrome do not get proper satiety cues, and consequently they can eat themselves to death. The parents of these children typically have to lock the pantry and fridge to prevent them from binge eating everything they can get their hands on. Most of these children are obese and at increased risk for early-onset type 2 diabetes mellitus.\n"
     ]
    },
    {
     "name": "stdout",
     "output_type": "stream",
     "text": [
      "https://app.ankihub.net/ai/file-search/input-file/ai-files/193108/8feac2bc-f598-4b8e-a8ad-2d6684848e03.pdf/\n",
      "Shape: Single, circular, double-stranded, and supercoiled (like a twisted rubber band). \n",
      "\n",
      "Supercoiling Enzyme: DNA gyrase – Targeted by Quinolones (antibiotics). \n",
      "\n",
      "Location: Attached to the inner membrane (not free-floating) \n",
      "\n",
      "No histones or nuclear membrane → enables fast replication (e.g., E. coli: ~20 min; C. perfringens: ~10-12 min). \n",
      "\n",
      "Transcription and translation occur simultaneously → increases replication speed. \n",
      "\n",
      "Ribosomes: 70S (50S + 30S) → targeted by aminoglycosides, tetracyclines, chloramphenicol, macrolides (erythromycin)  \n",
      "\n",
      "2. A 10-year-old boy who was adopted from the Democratic Republic of Congo 2 weeks ago is brought to the physician for an initial examination. He appears slim, has thin extremities, and is in no distress. His temperature is 37.3°C (99.1 °F), pulse is 100/min, respirations are 20/min, and blood pressure is 118/68 mm Hg. The lungs are clear, and heart sounds are normal. The abdomen is soft and nontender, and there is no hepatosplenomegaly. There are four 0.5-mm, firm, nontender nodules: two over the right iliac crest, one on the left thigh, and one on the left knee. Examination of a skin snip from one of the nodules shows microfilariae. Which of the following is the most likely vector of this patient's infection? \\\\nA) Blackfly\\\\nB) Body louse\\\\nC) Culex species mosquito \\\\nD) Ixodes species tick\\\\nE) Reduviid bug\n",
      "STATIN INDUCED MYOPATHY\n",
      "queries=['STATIN INDUCED MYOPATHY STATIN INDUCED MYOPATHY Statin Induced Myopathy Myalgia Rhabdomyolysis HMG-CoA Reductase Inhibitor Muscle Pain Muscle Weakness CK Elevation Myositis Lipitor Zocor Crestor Pravastatin Atorvastatin Simvastatin Rosuvastatin Lovastatin Fluvastatin Statin-associated Muscle Symptoms Statin-associated Myopathy Statin-induced Muscle Toxicity Statin-induced Muscle Damage Statin-induced Muscle Injury Statin-induced Muscle Side Effects Stat']\n",
      "✅ Task runs completed.\n",
      "🧠 Evaluation started.\n"
     ]
    },
    {
     "data": {
      "application/vnd.jupyter.widget-view+json": {
       "model_id": "979881516ac545fe94b0a7ebdea9e3d0",
       "version_major": 2,
       "version_minor": 0
      },
      "text/plain": [
       "running experiment evaluations |          | 0/57 (0.0%) | ⏳ 00:00<? | ?it/s"
      ]
     },
     "metadata": {},
     "output_type": "display_data"
    },
    {
     "name": "stdout",
     "output_type": "stream",
     "text": [
      "\n",
      "🔗 View this experiment: https://phx.ankihub.net/datasets/RGF0YXNldDoxOA==/compare?experimentId=RXhwZXJpbWVudDo1MzE=\n",
      "\n",
      "Experiment Summary (05/18/25 08:05 PM -0400)\n",
      "--------------------------------------------\n",
      "| evaluator                |   n |   n_scores |   avg_score |\n",
      "|:-------------------------|----:|-----------:|------------:|\n",
      "| average_precision_at_200 |  20 |         19 |    0.350844 |\n",
      "| nrbp                     |  20 |         19 |    0.544222 |\n",
      "| r_precision              |  20 |         19 |    0.387679 |\n",
      "\n",
      "Tasks Summary (05/18/25 08:05 PM -0400)\n",
      "---------------------------------------\n",
      "|   n_examples |   n_runs |   n_errors |\n",
      "|-------------:|---------:|-----------:|\n",
      "|           20 |       19 |          0 |\n"
     ]
    }
   ],
   "source": [
    "experiment = run_bm25_experiment(dataset=ds, top_k=200)"
   ]
  },
  {
   "cell_type": "code",
   "execution_count": null,
   "id": "574243f6",
   "metadata": {},
   "outputs": [],
   "source": [
    "def run_semantic_search_experiment(dataset, # Phoenix dataset to use\n",
    "                                  top_k=200, # Number of top results to return\n",
    "                                 ): # The experiment results\n",
    "    \"\"\"Run a semantic search experiment on a Phoenix dataset with multiple evaluation metrics\"\"\"\n",
    "\n",
    "    def search_task(input):\n",
    "        query = input.get('query', '')\n",
    "        if query.startswith('http'):\n",
    "            query = process_pdf(query)\n",
    "                \n",
    "        results = semantic_search_experiment(query, notes, top_k=top_k)\n",
    "        return {\n",
    "            'documents': results,\n",
    "            'metadata': {\n",
    "                'scoring_scale': '0-2 (0=Not Relevant, 1=Somewhat Relevant, 2=Highly Relevant)',\n",
    "                'top_k': top_k,\n",
    "            }\n",
    "        }\n",
    "    \n",
    "    # Create evaluators dictionary with all three metrics\n",
    "    evaluators = {\n",
    "        \"nrbp\": nrbp_evaluator,\n",
    "        \"r_precision\": r_precision_evaluator,\n",
    "        \"average_precision_at_200\": average_precision_evaluator\n",
    "    }\n",
    "    \n",
    "    return run_experiment(\n",
    "        dataset=dataset,\n",
    "        task=search_task,\n",
    "        evaluators=evaluators,\n",
    "        experiment_name=f\"Semantic Search (top_{top_k})\",\n",
    "        experiment_description=f\"Testing semantic search with top {top_k} results, evaluated with multiple metrics (nRBP, R-Precision, Average Precision)\",\n",
    "        dry_run=False,  # Set to True for testing\n",
    "        concurrency=1,\n",
    "        timeout=900,\n",
    "        print_summary=True)"
   ]
  },
  {
   "cell_type": "markdown",
   "id": "901fb3ab",
   "metadata": {},
   "source": [
    "You can run this experiment with:"
   ]
  },
  {
   "cell_type": "code",
   "execution_count": null,
   "id": "3b369c43",
   "metadata": {},
   "outputs": [],
   "source": [
    "semantic_experiment = run_semantic_search_experiment(dataset=ds, top_k=200)"
   ]
  }
 ],
 "metadata": {
  "kernelspec": {
   "display_name": "Python (.venv)",
   "language": "python",
   "name": ".venv"
  },
  "language_info": {
   "codemirror_mode": {
    "name": "ipython",
    "version": 3
   },
   "file_extension": ".py",
   "mimetype": "text/x-python",
   "name": "python",
   "nbconvert_exporter": "python",
   "pygments_lexer": "ipython3",
   "version": "3.12.8"
  }
 },
 "nbformat": 4,
 "nbformat_minor": 5
}
